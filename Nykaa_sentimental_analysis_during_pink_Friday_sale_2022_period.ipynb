{
  "nbformat": 4,
  "nbformat_minor": 0,
  "metadata": {
    "colab": {
      "provenance": [],
      "toc_visible": true,
      "authorship_tag": "ABX9TyOhnoUeLZjiwYylhyBsELqc",
      "include_colab_link": true
    },
    "kernelspec": {
      "name": "python3",
      "display_name": "Python 3"
    },
    "language_info": {
      "name": "python"
    }
  },
  "cells": [
    {
      "cell_type": "markdown",
      "metadata": {
        "id": "view-in-github",
        "colab_type": "text"
      },
      "source": [
        "<a href=\"https://colab.research.google.com/github/AVasundhara/Data-Analysis-Projects/blob/Sentimental-Analysis/Nykaa_sentimental_analysis_during_pink_Friday_sale_2022_period.ipynb\" target=\"_parent\"><img src=\"https://colab.research.google.com/assets/colab-badge.svg\" alt=\"Open In Colab\"/></a>"
      ]
    },
    {
      "cell_type": "markdown",
      "source": [
        "Twitter data for #nykaa from August 2022 to December 2022 was gathered and cleaned. Calculated the count and percentage of favorable, neutral, and negative sentiments using sentiment analysis. Exploratory data analysis was performed to determine the most popular tweets based on retweets, the number of tweets that differed between months, the geographic location with the most tweets, and the number of verified and influential individuals who mentioned Nykaa. Additionally, graphs were plotted showing the month-by-month distribution of tweet counts, the month-by-month distribution of positive, neutral, and negative feelings, and the geo-location in relation to the number of tweets."
      ],
      "metadata": {
        "id": "yfok8VxLmtEY"
      }
    },
    {
      "cell_type": "code",
      "execution_count": null,
      "metadata": {
        "id": "Mts83PLLFUyr"
      },
      "outputs": [],
      "source": [
        "from textblob import TextBlob\n",
        "import sys\n",
        "import matplotlib.pyplot as plt\n",
        "import pandas as pd\n",
        "import numpy as np\n",
        "import os\n",
        "import nltk\n",
        "import re\n"
      ]
    },
    {
      "cell_type": "code",
      "source": [
        "!pip3 install git+https://github.com/JustAnotherArchivist/snscrape.git\n",
        "import snscrape.modules.twitter as sntwitter"
      ],
      "metadata": {
        "colab": {
          "base_uri": "https://localhost:8080/"
        },
        "id": "_tdizeKHGqLE",
        "outputId": "25643991-b665-4f33-fa93-05d584e9ad69"
      },
      "execution_count": null,
      "outputs": [
        {
          "output_type": "stream",
          "name": "stdout",
          "text": [
            "Looking in indexes: https://pypi.org/simple, https://us-python.pkg.dev/colab-wheels/public/simple/\n",
            "Collecting git+https://github.com/JustAnotherArchivist/snscrape.git\n",
            "  Cloning https://github.com/JustAnotherArchivist/snscrape.git to /tmp/pip-req-build-3t7i033k\n",
            "  Running command git clone -q https://github.com/JustAnotherArchivist/snscrape.git /tmp/pip-req-build-3t7i033k\n",
            "Requirement already satisfied: requests[socks] in /usr/local/lib/python3.8/dist-packages (from snscrape==0.4.3.20220107.dev66+ge09aea7) (2.23.0)\n",
            "Requirement already satisfied: lxml in /usr/local/lib/python3.8/dist-packages (from snscrape==0.4.3.20220107.dev66+ge09aea7) (4.9.1)\n",
            "Requirement already satisfied: beautifulsoup4 in /usr/local/lib/python3.8/dist-packages (from snscrape==0.4.3.20220107.dev66+ge09aea7) (4.6.3)\n",
            "Requirement already satisfied: filelock in /usr/local/lib/python3.8/dist-packages (from snscrape==0.4.3.20220107.dev66+ge09aea7) (3.8.0)\n",
            "Requirement already satisfied: pytz in /usr/local/lib/python3.8/dist-packages (from snscrape==0.4.3.20220107.dev66+ge09aea7) (2022.6)\n",
            "Requirement already satisfied: chardet<4,>=3.0.2 in /usr/local/lib/python3.8/dist-packages (from requests[socks]->snscrape==0.4.3.20220107.dev66+ge09aea7) (3.0.4)\n",
            "Requirement already satisfied: urllib3!=1.25.0,!=1.25.1,<1.26,>=1.21.1 in /usr/local/lib/python3.8/dist-packages (from requests[socks]->snscrape==0.4.3.20220107.dev66+ge09aea7) (1.24.3)\n",
            "Requirement already satisfied: certifi>=2017.4.17 in /usr/local/lib/python3.8/dist-packages (from requests[socks]->snscrape==0.4.3.20220107.dev66+ge09aea7) (2022.9.24)\n",
            "Requirement already satisfied: idna<3,>=2.5 in /usr/local/lib/python3.8/dist-packages (from requests[socks]->snscrape==0.4.3.20220107.dev66+ge09aea7) (2.10)\n",
            "Requirement already satisfied: PySocks!=1.5.7,>=1.5.6 in /usr/local/lib/python3.8/dist-packages (from requests[socks]->snscrape==0.4.3.20220107.dev66+ge09aea7) (1.7.1)\n"
          ]
        }
      ]
    },
    {
      "cell_type": "code",
      "source": [
        "from wordcloud import WordCloud, STOPWORDS\n",
        "from nltk.sentiment.vader import SentimentIntensityAnalyzer\n",
        "from nltk.stem import SnowballStemmer\n",
        "from nltk.sentiment.vader import SentimentIntensityAnalyzer\n",
        "from sklearn.feature_extraction.text import CountVectorizer\n",
        "!pip install langdetect\n",
        "from langdetect import detect\n"
      ],
      "metadata": {
        "colab": {
          "base_uri": "https://localhost:8080/"
        },
        "id": "V36e5a1UGqXe",
        "outputId": "1bf8c4c0-08c6-4a10-cedf-11fc7fc6e27a"
      },
      "execution_count": null,
      "outputs": [
        {
          "output_type": "stream",
          "name": "stdout",
          "text": [
            "Looking in indexes: https://pypi.org/simple, https://us-python.pkg.dev/colab-wheels/public/simple/\n",
            "Requirement already satisfied: langdetect in /usr/local/lib/python3.8/dist-packages (1.0.9)\n",
            "Requirement already satisfied: six in /usr/local/lib/python3.8/dist-packages (from langdetect) (1.15.0)\n"
          ]
        }
      ]
    },
    {
      "cell_type": "markdown",
      "source": [
        "(1)What is the % growth in the tweet as compared to last month? \n",
        "(2)How many % of tweets were of positive sentiments?\n",
        "(3)Top 5 most viral tweets (based upon retweets)?\n",
        "(4)How many influential people are talking about our product (whose followers are greater than 1000)?\n",
        "(5)Which geographical location has the most tweets?\n",
        "\n",
        "\n",
        "\n",
        "\n",
        "\n",
        "\n",
        "\n",
        "\n"
      ],
      "metadata": {
        "id": "olvPhLREJV2o"
      }
    },
    {
      "cell_type": "code",
      "source": [
        "\n",
        "# Creating list to append tweet data to\n",
        "attributes_container = []\n",
        "\n",
        "# Using TwitterSearchScraper to scrape data and append tweets to list\n",
        "for i,tweet in enumerate(sntwitter.TwitterSearchScraper('(#nykaa) until:2022-12-03 since:2022-08-01').get_items()):\n",
        "    if i>5000:\n",
        "        break\n",
        "    attributes_container.append([tweet.user.username, tweet.date,tweet.date.day,tweet.date.month, tweet.likeCount, tweet.sourceLabel, tweet.content,\n",
        "                                 tweet.user.location,tweet.retweetCount,tweet.user.verified,tweet.user.followersCount])\n",
        "    \n",
        "# Creating a dataframe to load the list\n",
        "tweets_df = pd.DataFrame(attributes_container, columns=[\"User\", \"Date Created\",\"Day\",\"Month\", \"Number of Likes\", \"Source of Tweet\", \"Tweet\",\n",
        "                                                       \"Location\",\"RetweetCount\",\"Is Verified\",\"Followers\"])\n"
      ],
      "metadata": {
        "colab": {
          "base_uri": "https://localhost:8080/"
        },
        "id": "_rKtgPj-GqZ2",
        "outputId": "83dea2c7-d708-4e2a-cc76-616b0005b8b7"
      },
      "execution_count": null,
      "outputs": [
        {
          "output_type": "stream",
          "name": "stderr",
          "text": [
            "<ipython-input-28-8de3d327dde7>:8: FutureWarning: content is deprecated, use rawContent instead\n",
            "  attributes_container.append([tweet.user.username, tweet.date,tweet.date.day,tweet.date.month, tweet.likeCount, tweet.sourceLabel, tweet.content,\n"
          ]
        }
      ]
    },
    {
      "cell_type": "code",
      "source": [
        "tweets_df.head()"
      ],
      "metadata": {
        "colab": {
          "base_uri": "https://localhost:8080/",
          "height": 354
        },
        "id": "Eq6kTyCXPPfH",
        "outputId": "966dfa1e-8543-4c84-f1f6-31db0f0b3e44"
      },
      "execution_count": null,
      "outputs": [
        {
          "output_type": "execute_result",
          "data": {
            "text/plain": [
              "              User              Date Created  Day  Month  Number of Likes  \\\n",
              "0  officialfixed11 2022-12-02 22:01:58+00:00    2     12                1   \n",
              "1        neel_ekka 2022-12-02 20:17:03+00:00    2     12                0   \n",
              "2    KANAPARTHI009 2022-12-02 14:41:28+00:00    2     12                1   \n",
              "3     CNBCTV18News 2022-12-02 14:07:18+00:00    2     12               15   \n",
              "4     StockInvesta 2022-12-02 12:58:20+00:00    2     12                7   \n",
              "\n",
              "        Source of Tweet                                              Tweet  \\\n",
              "0   Twitter for Android  CONGRATULATIONS TO ALL WINNERS YESTERDAY. TODA...   \n",
              "1    Twitter for iPhone  Nykaa is therapy!\\n\\n#nykaa #girl #women https...   \n",
              "2   Twitter for Android  #Nykaa performance since listing..\\nHave a pee...   \n",
              "3  Twitter Media Studio  #EditorsRoundtable | #Nykaa, #PBFintech, #Payt...   \n",
              "4                Buffer  #FII DII Activity\\n\\nFollow @StockInvesta now\\...   \n",
              "\n",
              "         Location  RetweetCount  Is Verified  Followers  \n",
              "0        GLOBALLY             1        False          6  \n",
              "1  Kolkata, India             0        False         16  \n",
              "2                             0        False        106  \n",
              "3                             8         True    1084274  \n",
              "4          Mumbai             4        False       1070  "
            ],
            "text/html": [
              "\n",
              "  <div id=\"df-7b25c97f-f526-4567-a84c-0859cfc65a94\">\n",
              "    <div class=\"colab-df-container\">\n",
              "      <div>\n",
              "<style scoped>\n",
              "    .dataframe tbody tr th:only-of-type {\n",
              "        vertical-align: middle;\n",
              "    }\n",
              "\n",
              "    .dataframe tbody tr th {\n",
              "        vertical-align: top;\n",
              "    }\n",
              "\n",
              "    .dataframe thead th {\n",
              "        text-align: right;\n",
              "    }\n",
              "</style>\n",
              "<table border=\"1\" class=\"dataframe\">\n",
              "  <thead>\n",
              "    <tr style=\"text-align: right;\">\n",
              "      <th></th>\n",
              "      <th>User</th>\n",
              "      <th>Date Created</th>\n",
              "      <th>Day</th>\n",
              "      <th>Month</th>\n",
              "      <th>Number of Likes</th>\n",
              "      <th>Source of Tweet</th>\n",
              "      <th>Tweet</th>\n",
              "      <th>Location</th>\n",
              "      <th>RetweetCount</th>\n",
              "      <th>Is Verified</th>\n",
              "      <th>Followers</th>\n",
              "    </tr>\n",
              "  </thead>\n",
              "  <tbody>\n",
              "    <tr>\n",
              "      <th>0</th>\n",
              "      <td>officialfixed11</td>\n",
              "      <td>2022-12-02 22:01:58+00:00</td>\n",
              "      <td>2</td>\n",
              "      <td>12</td>\n",
              "      <td>1</td>\n",
              "      <td>Twitter for Android</td>\n",
              "      <td>CONGRATULATIONS TO ALL WINNERS YESTERDAY. TODA...</td>\n",
              "      <td>GLOBALLY</td>\n",
              "      <td>1</td>\n",
              "      <td>False</td>\n",
              "      <td>6</td>\n",
              "    </tr>\n",
              "    <tr>\n",
              "      <th>1</th>\n",
              "      <td>neel_ekka</td>\n",
              "      <td>2022-12-02 20:17:03+00:00</td>\n",
              "      <td>2</td>\n",
              "      <td>12</td>\n",
              "      <td>0</td>\n",
              "      <td>Twitter for iPhone</td>\n",
              "      <td>Nykaa is therapy!\\n\\n#nykaa #girl #women https...</td>\n",
              "      <td>Kolkata, India</td>\n",
              "      <td>0</td>\n",
              "      <td>False</td>\n",
              "      <td>16</td>\n",
              "    </tr>\n",
              "    <tr>\n",
              "      <th>2</th>\n",
              "      <td>KANAPARTHI009</td>\n",
              "      <td>2022-12-02 14:41:28+00:00</td>\n",
              "      <td>2</td>\n",
              "      <td>12</td>\n",
              "      <td>1</td>\n",
              "      <td>Twitter for Android</td>\n",
              "      <td>#Nykaa performance since listing..\\nHave a pee...</td>\n",
              "      <td></td>\n",
              "      <td>0</td>\n",
              "      <td>False</td>\n",
              "      <td>106</td>\n",
              "    </tr>\n",
              "    <tr>\n",
              "      <th>3</th>\n",
              "      <td>CNBCTV18News</td>\n",
              "      <td>2022-12-02 14:07:18+00:00</td>\n",
              "      <td>2</td>\n",
              "      <td>12</td>\n",
              "      <td>15</td>\n",
              "      <td>Twitter Media Studio</td>\n",
              "      <td>#EditorsRoundtable | #Nykaa, #PBFintech, #Payt...</td>\n",
              "      <td></td>\n",
              "      <td>8</td>\n",
              "      <td>True</td>\n",
              "      <td>1084274</td>\n",
              "    </tr>\n",
              "    <tr>\n",
              "      <th>4</th>\n",
              "      <td>StockInvesta</td>\n",
              "      <td>2022-12-02 12:58:20+00:00</td>\n",
              "      <td>2</td>\n",
              "      <td>12</td>\n",
              "      <td>7</td>\n",
              "      <td>Buffer</td>\n",
              "      <td>#FII DII Activity\\n\\nFollow @StockInvesta now\\...</td>\n",
              "      <td>Mumbai</td>\n",
              "      <td>4</td>\n",
              "      <td>False</td>\n",
              "      <td>1070</td>\n",
              "    </tr>\n",
              "  </tbody>\n",
              "</table>\n",
              "</div>\n",
              "      <button class=\"colab-df-convert\" onclick=\"convertToInteractive('df-7b25c97f-f526-4567-a84c-0859cfc65a94')\"\n",
              "              title=\"Convert this dataframe to an interactive table.\"\n",
              "              style=\"display:none;\">\n",
              "        \n",
              "  <svg xmlns=\"http://www.w3.org/2000/svg\" height=\"24px\"viewBox=\"0 0 24 24\"\n",
              "       width=\"24px\">\n",
              "    <path d=\"M0 0h24v24H0V0z\" fill=\"none\"/>\n",
              "    <path d=\"M18.56 5.44l.94 2.06.94-2.06 2.06-.94-2.06-.94-.94-2.06-.94 2.06-2.06.94zm-11 1L8.5 8.5l.94-2.06 2.06-.94-2.06-.94L8.5 2.5l-.94 2.06-2.06.94zm10 10l.94 2.06.94-2.06 2.06-.94-2.06-.94-.94-2.06-.94 2.06-2.06.94z\"/><path d=\"M17.41 7.96l-1.37-1.37c-.4-.4-.92-.59-1.43-.59-.52 0-1.04.2-1.43.59L10.3 9.45l-7.72 7.72c-.78.78-.78 2.05 0 2.83L4 21.41c.39.39.9.59 1.41.59.51 0 1.02-.2 1.41-.59l7.78-7.78 2.81-2.81c.8-.78.8-2.07 0-2.86zM5.41 20L4 18.59l7.72-7.72 1.47 1.35L5.41 20z\"/>\n",
              "  </svg>\n",
              "      </button>\n",
              "      \n",
              "  <style>\n",
              "    .colab-df-container {\n",
              "      display:flex;\n",
              "      flex-wrap:wrap;\n",
              "      gap: 12px;\n",
              "    }\n",
              "\n",
              "    .colab-df-convert {\n",
              "      background-color: #E8F0FE;\n",
              "      border: none;\n",
              "      border-radius: 50%;\n",
              "      cursor: pointer;\n",
              "      display: none;\n",
              "      fill: #1967D2;\n",
              "      height: 32px;\n",
              "      padding: 0 0 0 0;\n",
              "      width: 32px;\n",
              "    }\n",
              "\n",
              "    .colab-df-convert:hover {\n",
              "      background-color: #E2EBFA;\n",
              "      box-shadow: 0px 1px 2px rgba(60, 64, 67, 0.3), 0px 1px 3px 1px rgba(60, 64, 67, 0.15);\n",
              "      fill: #174EA6;\n",
              "    }\n",
              "\n",
              "    [theme=dark] .colab-df-convert {\n",
              "      background-color: #3B4455;\n",
              "      fill: #D2E3FC;\n",
              "    }\n",
              "\n",
              "    [theme=dark] .colab-df-convert:hover {\n",
              "      background-color: #434B5C;\n",
              "      box-shadow: 0px 1px 3px 1px rgba(0, 0, 0, 0.15);\n",
              "      filter: drop-shadow(0px 1px 2px rgba(0, 0, 0, 0.3));\n",
              "      fill: #FFFFFF;\n",
              "    }\n",
              "  </style>\n",
              "\n",
              "      <script>\n",
              "        const buttonEl =\n",
              "          document.querySelector('#df-7b25c97f-f526-4567-a84c-0859cfc65a94 button.colab-df-convert');\n",
              "        buttonEl.style.display =\n",
              "          google.colab.kernel.accessAllowed ? 'block' : 'none';\n",
              "\n",
              "        async function convertToInteractive(key) {\n",
              "          const element = document.querySelector('#df-7b25c97f-f526-4567-a84c-0859cfc65a94');\n",
              "          const dataTable =\n",
              "            await google.colab.kernel.invokeFunction('convertToInteractive',\n",
              "                                                     [key], {});\n",
              "          if (!dataTable) return;\n",
              "\n",
              "          const docLinkHtml = 'Like what you see? Visit the ' +\n",
              "            '<a target=\"_blank\" href=https://colab.research.google.com/notebooks/data_table.ipynb>data table notebook</a>'\n",
              "            + ' to learn more about interactive tables.';\n",
              "          element.innerHTML = '';\n",
              "          dataTable['output_type'] = 'display_data';\n",
              "          await google.colab.output.renderOutput(dataTable, element);\n",
              "          const docLink = document.createElement('div');\n",
              "          docLink.innerHTML = docLinkHtml;\n",
              "          element.appendChild(docLink);\n",
              "        }\n",
              "      </script>\n",
              "    </div>\n",
              "  </div>\n",
              "  "
            ]
          },
          "metadata": {},
          "execution_count": 29
        }
      ]
    },
    {
      "cell_type": "code",
      "source": [
        "tweets_df.dtypes"
      ],
      "metadata": {
        "colab": {
          "base_uri": "https://localhost:8080/"
        },
        "id": "3lsk6r92GqdE",
        "outputId": "79ebb777-8edf-452a-e953-413619a81d00"
      },
      "execution_count": null,
      "outputs": [
        {
          "output_type": "execute_result",
          "data": {
            "text/plain": [
              "User                            object\n",
              "Date Created       datetime64[ns, UTC]\n",
              "Day                              int64\n",
              "Month                            int64\n",
              "Number of Likes                  int64\n",
              "Source of Tweet                 object\n",
              "Tweet                           object\n",
              "Location                        object\n",
              "RetweetCount                     int64\n",
              "Is Verified                       bool\n",
              "Followers                        int64\n",
              "dtype: object"
            ]
          },
          "metadata": {},
          "execution_count": 30
        }
      ]
    },
    {
      "cell_type": "markdown",
      "source": [
        "Clean Tweets"
      ],
      "metadata": {
        "id": "P_TlrCcVOhAr"
      }
    },
    {
      "cell_type": "code",
      "source": [
        "clean_tweets = []\n",
        "for tweet in tweets_df['Tweet']:\n",
        "    tweet = re.sub(\"@[A-Za-z0-9]+\",\"\",tweet) #Remove @ sign\n",
        "    tweet = re.sub(\"#[A-Za-z0-9]+\",\"\",tweet) #Remove # sign\n",
        "    tweet = re.sub(r\"[^a-zA-Z0-9]+\", ' ',tweet)\n",
        "    tweet = re.sub('\\\\n','',tweet) # remove the '\\n' string\n",
        "    tweet = re.sub('https?:\\/\\/\\s+','',tweet) # remove any hyperlinks\n",
        "#     tweet = re.sub(\"[^0-9a-zA-Z]+\",\"\",tweet)\n",
        "    ##Here's where all the cleaning takes place\n",
        "    clean_tweets.append(tweet)\n",
        "tweets_df['Tweet'] = clean_tweets\n"
      ],
      "metadata": {
        "id": "hnAueI7YGqgu"
      },
      "execution_count": null,
      "outputs": []
    },
    {
      "cell_type": "code",
      "source": [
        "tweets_df['Tweet']"
      ],
      "metadata": {
        "colab": {
          "base_uri": "https://localhost:8080/"
        },
        "id": "Zza7oPQ-Gqkt",
        "outputId": "6ef1ba0d-1aa7-4098-e6cf-639461b83f9b"
      },
      "execution_count": null,
      "outputs": [
        {
          "output_type": "execute_result",
          "data": {
            "text/plain": [
              "0       CONGRATULATIONS TO ALL WINNERS YESTERDAY TODAY...\n",
              "1                  Nykaa is therapy https t co C1QYcfGWrJ\n",
              "2        performance since listing Have a peek https t...\n",
              "3        amp What s the common situation these age cos...\n",
              "4           DII Activity Follow now https t co 7JlDKmbJC2\n",
              "                              ...                        \n",
              "4118     though the product is delivered but still I m...\n",
              "4119                                https t co eZHL2KtzRQ\n",
              "4120    Nykaa s Falguni Nayar is now the richest self ...\n",
              "4121                        watching earnings amp others \n",
              "4122     This week we ll be busy with numbers and data...\n",
              "Name: Tweet, Length: 4123, dtype: object"
            ]
          },
          "metadata": {},
          "execution_count": 34
        }
      ]
    },
    {
      "cell_type": "markdown",
      "source": [
        "Calculate Sentiment"
      ],
      "metadata": {
        "id": "Po8pcgFGR-QJ"
      }
    },
    {
      "cell_type": "code",
      "source": [
        "# def sentiment_calc(text):\n",
        "#     try:\n",
        "#         analysis = TextBlob(text)\n",
        "#         return analysis.sentiment.polarity\n",
        "        \n",
        "#     except:\n",
        "#         return None\n",
        "\n",
        "# tweets_df['sentiment'] = tweets_df['Tweet'].apply(sentiment_calc)\n",
        "\n"
      ],
      "metadata": {
        "id": "GsykRlmVGqnh"
      },
      "execution_count": null,
      "outputs": []
    },
    {
      "cell_type": "code",
      "source": [
        "def sentiment_calc(text):\n",
        "    try:\n",
        "        analysis = TextBlob(text)\n",
        "        if analysis.sentiment.polarity > 0:\n",
        "            return 'Positive'\n",
        "        elif analysis.sentiment.polarity == 0:\n",
        "            return 'Neutral'\n",
        "        else:\n",
        "            return 'Negative'\n",
        "        \n",
        "    except:\n",
        "        return None\n",
        "\n",
        "tweets_df['sentiment_analysis'] = tweets_df['Tweet'].apply(sentiment_calc)"
      ],
      "metadata": {
        "id": "2PdzpisMGqq4"
      },
      "execution_count": null,
      "outputs": []
    },
    {
      "cell_type": "code",
      "source": [
        "tweets_df['sentiment_analysis'].unique()"
      ],
      "metadata": {
        "id": "MTbK9_KBGquQ",
        "colab": {
          "base_uri": "https://localhost:8080/"
        },
        "outputId": "c104b0a7-ff6e-4376-cfa8-2d2f8eef3e09"
      },
      "execution_count": null,
      "outputs": [
        {
          "output_type": "execute_result",
          "data": {
            "text/plain": [
              "array(['Positive', 'Neutral', 'Negative'], dtype=object)"
            ]
          },
          "metadata": {},
          "execution_count": 36
        }
      ]
    },
    {
      "cell_type": "markdown",
      "source": [
        "Total Sentimental value count"
      ],
      "metadata": {
        "id": "-6VzZgd4TFFY"
      }
    },
    {
      "cell_type": "code",
      "source": [
        "print(\"Total Positive Value:\",tweets_df['sentiment_analysis'].value_counts()['Positive'])\n",
        "print(\"Total Neutral Value:\",tweets_df['sentiment_analysis'].value_counts()['Neutral'])\n",
        "print(\"Total Negative Value:\",tweets_df['sentiment_analysis'].value_counts()['Negative'])"
      ],
      "metadata": {
        "colab": {
          "base_uri": "https://localhost:8080/"
        },
        "id": "dY9Zxu69TEak",
        "outputId": "0ed578f8-bc0a-4b61-92a6-dbea600d1f44"
      },
      "execution_count": null,
      "outputs": [
        {
          "output_type": "stream",
          "name": "stdout",
          "text": [
            "Total Positive Value: 1411\n",
            "Total Neutral Value: 2007\n",
            "Total Negative Value: 705\n"
          ]
        }
      ]
    },
    {
      "cell_type": "markdown",
      "source": [
        "Total Percentage of Sentimental"
      ],
      "metadata": {
        "id": "9WvBwanzT0zf"
      }
    },
    {
      "cell_type": "code",
      "source": [
        "print(\"Total Positive Value percentage:\",tweets_df['sentiment_analysis'].value_counts(normalize=True)['Positive']*100,2)\n",
        "print(\"Total Neutral Value percentage:\",tweets_df['sentiment_analysis'].value_counts(normalize=True)['Neutral']*100,2)\n",
        "print(\"Total Negative Value percentage:\",tweets_df['sentiment_analysis'].value_counts(normalize=True)['Negative']*100,2)\n"
      ],
      "metadata": {
        "colab": {
          "base_uri": "https://localhost:8080/"
        },
        "id": "p60X-lCfSNDN",
        "outputId": "591b27bf-5e96-4d6a-f124-2b87d3608c6b"
      },
      "execution_count": null,
      "outputs": [
        {
          "output_type": "stream",
          "name": "stdout",
          "text": [
            "Total Positive Value percentage: 34.22265340771283 2\n",
            "Total Neutral Value percentage: 48.67814698035411 2\n",
            "Total Negative Value percentage: 17.09919961193306 2\n"
          ]
        }
      ]
    },
    {
      "cell_type": "markdown",
      "source": [
        "Popular Tweet Based On Retweet Count"
      ],
      "metadata": {
        "id": "zhx24MuAT8xF"
      }
    },
    {
      "cell_type": "code",
      "source": [
        "top_viral_tweet_df=tweets_df.sort_values('RetweetCount', ascending=False)\n",
        "top_viral_tweet_df.head(5)\n",
        "\n"
      ],
      "metadata": {
        "colab": {
          "base_uri": "https://localhost:8080/",
          "height": 389
        },
        "id": "AqM4fI4jSNFo",
        "outputId": "d7258ca4-48d8-4122-ba1a-605870347ca6"
      },
      "execution_count": null,
      "outputs": [
        {
          "output_type": "execute_result",
          "data": {
            "text/plain": [
              "                User              Date Created  Day  Month  Number of Likes  \\\n",
              "1469        shyamsek 2022-11-11 04:22:22+00:00   11     11             2291   \n",
              "122        Qid_Memez 2022-11-27 02:49:22+00:00   27     11             1662   \n",
              "644   darshitpatel84 2022-11-22 09:11:17+00:00   22     11             1268   \n",
              "3355    AnilSinghvi_ 2022-09-29 01:42:52+00:00   29      9             1152   \n",
              "1443        shyamsek 2022-11-11 05:56:33+00:00   11     11              674   \n",
              "\n",
              "          Source of Tweet                                              Tweet  \\\n",
              "1469  Twitter for Android  This is for investors Assume you hold 100 Nyka...   \n",
              "122   Twitter for Android                              https t co P8WpJ0cCMl   \n",
              "644       Twitter Web App  RIP Rest In Peace to Shareholders of U have St...   \n",
              "3355   Twitter for iPhone   You heard this Market is a great equalizer IT...   \n",
              "1443  Twitter for Android  Clearly fails the smell test When a Co with fo...   \n",
              "\n",
              "                   Location  RetweetCount  Is Verified  Followers  \\\n",
              "1469                CHENNAI           376        False      89311   \n",
              "122                                   128        False      63644   \n",
              "644   Ahmadabad City, India           110        False     109548   \n",
              "3355   Delhi, Mumbai, India            87         True     684846   \n",
              "1443                CHENNAI            87        False      89311   \n",
              "\n",
              "     sentiment_analysis  \n",
              "1469           Positive  \n",
              "122             Neutral  \n",
              "644             Neutral  \n",
              "3355           Positive  \n",
              "1443           Negative  "
            ],
            "text/html": [
              "\n",
              "  <div id=\"df-7540aa6f-d987-46e4-a1a3-992fbcf91f2a\">\n",
              "    <div class=\"colab-df-container\">\n",
              "      <div>\n",
              "<style scoped>\n",
              "    .dataframe tbody tr th:only-of-type {\n",
              "        vertical-align: middle;\n",
              "    }\n",
              "\n",
              "    .dataframe tbody tr th {\n",
              "        vertical-align: top;\n",
              "    }\n",
              "\n",
              "    .dataframe thead th {\n",
              "        text-align: right;\n",
              "    }\n",
              "</style>\n",
              "<table border=\"1\" class=\"dataframe\">\n",
              "  <thead>\n",
              "    <tr style=\"text-align: right;\">\n",
              "      <th></th>\n",
              "      <th>User</th>\n",
              "      <th>Date Created</th>\n",
              "      <th>Day</th>\n",
              "      <th>Month</th>\n",
              "      <th>Number of Likes</th>\n",
              "      <th>Source of Tweet</th>\n",
              "      <th>Tweet</th>\n",
              "      <th>Location</th>\n",
              "      <th>RetweetCount</th>\n",
              "      <th>Is Verified</th>\n",
              "      <th>Followers</th>\n",
              "      <th>sentiment_analysis</th>\n",
              "    </tr>\n",
              "  </thead>\n",
              "  <tbody>\n",
              "    <tr>\n",
              "      <th>1469</th>\n",
              "      <td>shyamsek</td>\n",
              "      <td>2022-11-11 04:22:22+00:00</td>\n",
              "      <td>11</td>\n",
              "      <td>11</td>\n",
              "      <td>2291</td>\n",
              "      <td>Twitter for Android</td>\n",
              "      <td>This is for investors Assume you hold 100 Nyka...</td>\n",
              "      <td>CHENNAI</td>\n",
              "      <td>376</td>\n",
              "      <td>False</td>\n",
              "      <td>89311</td>\n",
              "      <td>Positive</td>\n",
              "    </tr>\n",
              "    <tr>\n",
              "      <th>122</th>\n",
              "      <td>Qid_Memez</td>\n",
              "      <td>2022-11-27 02:49:22+00:00</td>\n",
              "      <td>27</td>\n",
              "      <td>11</td>\n",
              "      <td>1662</td>\n",
              "      <td>Twitter for Android</td>\n",
              "      <td>https t co P8WpJ0cCMl</td>\n",
              "      <td></td>\n",
              "      <td>128</td>\n",
              "      <td>False</td>\n",
              "      <td>63644</td>\n",
              "      <td>Neutral</td>\n",
              "    </tr>\n",
              "    <tr>\n",
              "      <th>644</th>\n",
              "      <td>darshitpatel84</td>\n",
              "      <td>2022-11-22 09:11:17+00:00</td>\n",
              "      <td>22</td>\n",
              "      <td>11</td>\n",
              "      <td>1268</td>\n",
              "      <td>Twitter Web App</td>\n",
              "      <td>RIP Rest In Peace to Shareholders of U have St...</td>\n",
              "      <td>Ahmadabad City, India</td>\n",
              "      <td>110</td>\n",
              "      <td>False</td>\n",
              "      <td>109548</td>\n",
              "      <td>Neutral</td>\n",
              "    </tr>\n",
              "    <tr>\n",
              "      <th>3355</th>\n",
              "      <td>AnilSinghvi_</td>\n",
              "      <td>2022-09-29 01:42:52+00:00</td>\n",
              "      <td>29</td>\n",
              "      <td>9</td>\n",
              "      <td>1152</td>\n",
              "      <td>Twitter for iPhone</td>\n",
              "      <td>You heard this Market is a great equalizer IT...</td>\n",
              "      <td>Delhi, Mumbai, India</td>\n",
              "      <td>87</td>\n",
              "      <td>True</td>\n",
              "      <td>684846</td>\n",
              "      <td>Positive</td>\n",
              "    </tr>\n",
              "    <tr>\n",
              "      <th>1443</th>\n",
              "      <td>shyamsek</td>\n",
              "      <td>2022-11-11 05:56:33+00:00</td>\n",
              "      <td>11</td>\n",
              "      <td>11</td>\n",
              "      <td>674</td>\n",
              "      <td>Twitter for Android</td>\n",
              "      <td>Clearly fails the smell test When a Co with fo...</td>\n",
              "      <td>CHENNAI</td>\n",
              "      <td>87</td>\n",
              "      <td>False</td>\n",
              "      <td>89311</td>\n",
              "      <td>Negative</td>\n",
              "    </tr>\n",
              "  </tbody>\n",
              "</table>\n",
              "</div>\n",
              "      <button class=\"colab-df-convert\" onclick=\"convertToInteractive('df-7540aa6f-d987-46e4-a1a3-992fbcf91f2a')\"\n",
              "              title=\"Convert this dataframe to an interactive table.\"\n",
              "              style=\"display:none;\">\n",
              "        \n",
              "  <svg xmlns=\"http://www.w3.org/2000/svg\" height=\"24px\"viewBox=\"0 0 24 24\"\n",
              "       width=\"24px\">\n",
              "    <path d=\"M0 0h24v24H0V0z\" fill=\"none\"/>\n",
              "    <path d=\"M18.56 5.44l.94 2.06.94-2.06 2.06-.94-2.06-.94-.94-2.06-.94 2.06-2.06.94zm-11 1L8.5 8.5l.94-2.06 2.06-.94-2.06-.94L8.5 2.5l-.94 2.06-2.06.94zm10 10l.94 2.06.94-2.06 2.06-.94-2.06-.94-.94-2.06-.94 2.06-2.06.94z\"/><path d=\"M17.41 7.96l-1.37-1.37c-.4-.4-.92-.59-1.43-.59-.52 0-1.04.2-1.43.59L10.3 9.45l-7.72 7.72c-.78.78-.78 2.05 0 2.83L4 21.41c.39.39.9.59 1.41.59.51 0 1.02-.2 1.41-.59l7.78-7.78 2.81-2.81c.8-.78.8-2.07 0-2.86zM5.41 20L4 18.59l7.72-7.72 1.47 1.35L5.41 20z\"/>\n",
              "  </svg>\n",
              "      </button>\n",
              "      \n",
              "  <style>\n",
              "    .colab-df-container {\n",
              "      display:flex;\n",
              "      flex-wrap:wrap;\n",
              "      gap: 12px;\n",
              "    }\n",
              "\n",
              "    .colab-df-convert {\n",
              "      background-color: #E8F0FE;\n",
              "      border: none;\n",
              "      border-radius: 50%;\n",
              "      cursor: pointer;\n",
              "      display: none;\n",
              "      fill: #1967D2;\n",
              "      height: 32px;\n",
              "      padding: 0 0 0 0;\n",
              "      width: 32px;\n",
              "    }\n",
              "\n",
              "    .colab-df-convert:hover {\n",
              "      background-color: #E2EBFA;\n",
              "      box-shadow: 0px 1px 2px rgba(60, 64, 67, 0.3), 0px 1px 3px 1px rgba(60, 64, 67, 0.15);\n",
              "      fill: #174EA6;\n",
              "    }\n",
              "\n",
              "    [theme=dark] .colab-df-convert {\n",
              "      background-color: #3B4455;\n",
              "      fill: #D2E3FC;\n",
              "    }\n",
              "\n",
              "    [theme=dark] .colab-df-convert:hover {\n",
              "      background-color: #434B5C;\n",
              "      box-shadow: 0px 1px 3px 1px rgba(0, 0, 0, 0.15);\n",
              "      filter: drop-shadow(0px 1px 2px rgba(0, 0, 0, 0.3));\n",
              "      fill: #FFFFFF;\n",
              "    }\n",
              "  </style>\n",
              "\n",
              "      <script>\n",
              "        const buttonEl =\n",
              "          document.querySelector('#df-7540aa6f-d987-46e4-a1a3-992fbcf91f2a button.colab-df-convert');\n",
              "        buttonEl.style.display =\n",
              "          google.colab.kernel.accessAllowed ? 'block' : 'none';\n",
              "\n",
              "        async function convertToInteractive(key) {\n",
              "          const element = document.querySelector('#df-7540aa6f-d987-46e4-a1a3-992fbcf91f2a');\n",
              "          const dataTable =\n",
              "            await google.colab.kernel.invokeFunction('convertToInteractive',\n",
              "                                                     [key], {});\n",
              "          if (!dataTable) return;\n",
              "\n",
              "          const docLinkHtml = 'Like what you see? Visit the ' +\n",
              "            '<a target=\"_blank\" href=https://colab.research.google.com/notebooks/data_table.ipynb>data table notebook</a>'\n",
              "            + ' to learn more about interactive tables.';\n",
              "          element.innerHTML = '';\n",
              "          dataTable['output_type'] = 'display_data';\n",
              "          await google.colab.output.renderOutput(dataTable, element);\n",
              "          const docLink = document.createElement('div');\n",
              "          docLink.innerHTML = docLinkHtml;\n",
              "          element.appendChild(docLink);\n",
              "        }\n",
              "      </script>\n",
              "    </div>\n",
              "  </div>\n",
              "  "
            ]
          },
          "metadata": {},
          "execution_count": 39
        }
      ]
    },
    {
      "cell_type": "markdown",
      "source": [
        "Calculate Growth Difference Between Two Months"
      ],
      "metadata": {
        "id": "EXx2AVagUcBa"
      }
    },
    {
      "cell_type": "code",
      "source": [
        "tweets_df['Month'].unique()\n"
      ],
      "metadata": {
        "colab": {
          "base_uri": "https://localhost:8080/"
        },
        "id": "eXFfAZQjSNJE",
        "outputId": "3015f7cd-c8cd-4845-d32c-05e43e438d4e"
      },
      "execution_count": null,
      "outputs": [
        {
          "output_type": "execute_result",
          "data": {
            "text/plain": [
              "array([12, 11, 10,  9,  8])"
            ]
          },
          "metadata": {},
          "execution_count": 40
        }
      ]
    },
    {
      "cell_type": "code",
      "source": [
        "November_df=tweets_df.loc[tweets_df['Month']==11]    # pink friday sale month\n"
      ],
      "metadata": {
        "id": "jRoG2HMhSNMu"
      },
      "execution_count": null,
      "outputs": []
    },
    {
      "cell_type": "code",
      "source": [
        "November_df['Tweet'].count()"
      ],
      "metadata": {
        "colab": {
          "base_uri": "https://localhost:8080/"
        },
        "id": "qrz7I-E2SNQn",
        "outputId": "4594c59c-b931-4ba8-9294-b75dac154340"
      },
      "execution_count": null,
      "outputs": [
        {
          "output_type": "execute_result",
          "data": {
            "text/plain": [
              "2093"
            ]
          },
          "metadata": {},
          "execution_count": 42
        }
      ]
    },
    {
      "cell_type": "code",
      "source": [
        "Octomber_df=tweets_df.loc[tweets_df['Month']==10] \n",
        "Octomber_df['Tweet'].count()\n"
      ],
      "metadata": {
        "colab": {
          "base_uri": "https://localhost:8080/"
        },
        "id": "lJCY8t51SNUV",
        "outputId": "2695bca5-94e5-4b05-d7cf-269ddbd6e520"
      },
      "execution_count": null,
      "outputs": [
        {
          "output_type": "execute_result",
          "data": {
            "text/plain": [
              "1130"
            ]
          },
          "metadata": {},
          "execution_count": 43
        }
      ]
    },
    {
      "cell_type": "code",
      "source": [
        "print(\"Growth compare to two months:\",(November_df['Tweet'].count()-Octomber_df['Tweet'].count())/Octomber_df['Tweet'].count()*100)\n"
      ],
      "metadata": {
        "colab": {
          "base_uri": "https://localhost:8080/"
        },
        "id": "dwwmSWu5SNXX",
        "outputId": "7e776c6e-02f0-48cf-8bce-b213a0c8d3e7"
      },
      "execution_count": null,
      "outputs": [
        {
          "output_type": "stream",
          "name": "stdout",
          "text": [
            "Growth compare to two months: 85.2212389380531\n"
          ]
        }
      ]
    },
    {
      "cell_type": "markdown",
      "source": [
        "Which geographical location has the most tweets"
      ],
      "metadata": {
        "id": "OA_Xrfh0U2Nk"
      }
    },
    {
      "cell_type": "code",
      "source": [
        "tweets_df['Location'].unique()\n"
      ],
      "metadata": {
        "colab": {
          "base_uri": "https://localhost:8080/"
        },
        "id": "Jw1hm9w4SNbD",
        "outputId": "29229121-e845-477b-9aa9-5e2aee1ff96d"
      },
      "execution_count": null,
      "outputs": [
        {
          "output_type": "execute_result",
          "data": {
            "text/plain": [
              "array(['GLOBALLY', 'Kolkata, India', '', 'Mumbai', 'Gurgaon, India',\n",
              "       'India', 'Bengaluru, India', 'India ', 'Banknifty Trading ',\n",
              "       'Lucknow', 'Hyderabad, India', 'New Delhi, India', 'Chicago, IL',\n",
              "       'INDIA', 'Sector 31,Gurgaon', 'Delhi', 'Hyderabad',\n",
              "       'Panchkula, India', 'Melbourne, Victoria', 'Kolkata ',\n",
              "       'Mumbai, India', 'Katrination', 'Noida', 'Pune', 'Lucknow, India',\n",
              "       'New Delhi', 'Sector -47, Gurugram', 'Delhi, India', 'Rajasthan',\n",
              "       'Bengaluru,India', 'Varanasi', 'your ❤️', 'UK', 'roorkee',\n",
              "       'Mumbai ', 'Chennai', 'bengaluru', 'Bengaluru',\n",
              "       'Toronto, Ontario 🇨🇦🇮🇳', 'india,gujarat,rajkot', 'Bangalore',\n",
              "       'bhopal', 'Chennai, India', 'Heraklion, Crete', 'MUMBAI',\n",
              "       'Metaverse', 'Dallas, TX', 'Singapore', '13.0827° N, 80.2707° E',\n",
              "       'Kerala', 'मुंबई, भारत', 'Pune, India', 'Singapore/ India',\n",
              "       'Bhuj, India', 'AHMEDABAD', 'countryside', 'United States',\n",
              "       'to the moon', 'Yeh Mera India I love my India',\n",
              "       'Hydersyde Park, Scotland', 'Chennai, Tamil Nadu', 'NEW DELHI',\n",
              "       'Karnataka, India', 'New Delhi ', 'Wanderlust ',\n",
              "       'National Capital Region', 'https://goo.gl/maps/MmFeVFnPsN',\n",
              "       'Beulah Land', 'Global Indian', 'Bharat', 'Assam',\n",
              "       'Manar Tower Sector 132 Noida', 'Ranchi, Jharkhand', 'Gurgaon',\n",
              "       'india', ' Charts📊📉', 'ʜᴇᴀʀᴛ', 'Noida ',\n",
              "       'Salem, Tamil Nadu, India', 'Virar, Maharashtra ', 'Bombay',\n",
              "       'London, Mumbai', 'Bhubaneswar,India ', 'In between IDC to IDK.',\n",
              "       'new delhi', 'CHENNAI', 'Uttarakhand,Dehradun, India ',\n",
              "       'Ahmedabad', 'பெங்களுரூ', 'Norwalk, CT', 'dead end U turn ತಗೊಳ್ಳಿ',\n",
              "       'HYDERABAD', 'Lucknow ', 'Ahmadabad City, India', 'London, UK',\n",
              "       'Lower Parel, Mumbai', 'San Francisco Bay Area, US',\n",
              "       'Noida, India', 'New Delhi, Delhi', 'Etawah, India',\n",
              "       'Maharashtra, India', 'Bangalore, Karnataka',\n",
              "       'Kompally,Hyderabad,Telangana.', 'woods', \"a'bad GJ - 1\",\n",
              "       'New Delhi / Mumbai / Bengaluru', 'TradingView',\n",
              "       'Siwan, Bihar. Delhi, India', 'Rajasthan, India',\n",
              "       'Bardhaman, India', 'Jammu', 'Kolkata', 'Surat', 'on planet',\n",
              "       'Gujarat, India', 'Pune, Maharashtra', 'Panama City, Panamá',\n",
              "       'Surat, India', 'Bengaluru, INDIA', 'दलाल पथ आणि बीकेसी',\n",
              "       'Dubai, United Arab Emirates', 'Bristol, England',\n",
              "       'NishPaksh Tower, NH-9', 'Navi Mumbai, India', 'Guwahati, India',\n",
              "       'Kuala Lumpur City', 'Kalpana Square, Bhubaneswar', 'Home, NM',\n",
              "       'Akhand Bharath', 'Jaipur, India', 'Planet Earth', 'Sangli, India',\n",
              "       'Chennai ', 'Under the Sun', 'Brussels, Belgium', 'West Bengal',\n",
              "       'West Coast', 'Bihar', 'mumbai,INDIA', 'Noida India',\n",
              "       'GLOBAL- focus on ASIAN Markets', 'Mumbai, Amdavad',\n",
              "       'Somewhere in India', '12.9716° N, 77.5961° E',\n",
              "       'नर्कवासी (Since 2014)', 'Hilbert Space', 'London, England',\n",
              "       'भारत', 'Subscribe to my substack', 'Raigarh Chhattisgarh',\n",
              "       \"Nation 🇮🇳/ Don't follow me \", 'Mumbai, INDIA',\n",
              "       'Singapore and India', 'TAMIL NADU', 'Mumbai, Maharashtra',\n",
              "       'Earth', 'Jharkhand, India', 'Plot No. 35P, Sec 44, Gurgaon',\n",
              "       'Tamilnadu', 'Location', 'Facebook , Twitter, Linkedin',\n",
              "       'Washington DC', 'Kanpur, India', 'With my Oppa',\n",
              "       'Bangalore, India', 'Aukaat', 'ludhiana', 'Global 🌍', 'Assam.',\n",
              "       'Jaunpur, India', 'Vododara, India', 'Make Money Get Wealthy ',\n",
              "       'India.', 'Unitech Cyber Park, Gurugram', 'Uttar Pradesh , India',\n",
              "       'Guwahati', 'KHANDWA', 'Mumbai / Thrissur', 'Hyderabad-India',\n",
              "       'బెంగళూరు', 'Global', 'Indore', 'Ahmedabad, Gujrat ',\n",
              "       'Ghaziabad, India', 'ahmedabad', ' India', 'Mumbai | Delhi | Gkp',\n",
              "       'Earth-616',\n",
              "       'Publicity Print House,                      125-126, Eighth Street,\\nGandhipuram, Coimbatore-12.\\nPh: 0422-2496405',\n",
              "       'Assam, India (Allah, 786)', 'Technical Analyst, Chennai',\n",
              "       '#ଓଡିଶା #भारत ', 'Janakpuri, New Delhi',\n",
              "       '5th Floor, Block A, Lemon Tree Corporate Park, Sector 60, Gurgaon-122011, Haryana, India',\n",
              "       'Indore, India', 'Uttar Pradesh, India', 'Raipur, India',\n",
              "       'chennai', \"In Yami's heart❤️\", 'Dibrugarh, India', 'Kozhikode',\n",
              "       'Mars', 'Mumbai,India', 'Global Citizen', 'Gurgaon, Pune, Mumbai',\n",
              "       'Gujarat', 'Bengaluru South, India', 'Jalandhar/Punjab',\n",
              "       'UK and India', 'Bangalore ', 'Shimla ', 'THANE', 'India 🇮🇳',\n",
              "       'കൊമാല', 'Pakala, Andhra Pradesh, India', 'Calicut, Kerala',\n",
              "       'Punjab, India', 'Coimbatore  (From Salem) ',\n",
              "       'India (Bangalore / Raipur,CG)', 'Western Ghats', 'rajasthan',\n",
              "       'Dalal Street', 'Madras', 'Link in Bio', 'Bandra West, Mumbai',\n",
              "       'Livingston, NJ', 'Bengaluru, Karnataka.', 'Delaware, USA',\n",
              "       'Crypto Park', 'Mumbra, Navi Mumbai', 'NOIDA ',\n",
              "       'لائل پور, پاکستان', 'Everywhere', 'Virar East, Mumbai',\n",
              "       'Paris, France', 'Bikaner, India', 'Rajkot, India',\n",
              "       'Alok@weekendinvesting.com', 'Varanasi, India',\n",
              "       'Nagarkovil/Uzhhorod/New Delhi', 'Bengalore', 'mount fuji',\n",
              "       'jaipur', 'Pune, Mumbai, Dubai', 'Haryana, India', 'Anjar, India',\n",
              "       'Gurgaon, Haryana', 'Akola, India', 'Bharatham',\n",
              "       'Bengaluru, India ', 'Hosur, India', 'West Bengal, India',\n",
              "       'Hong Kong', 'Earth : Ocean Planet', 'India..Wanderlust',\n",
              "       'Kolkata , ', 'Ahmedabad, Gujarat ', 'Gujarat India',\n",
              "       'San Francisco, CA', 'Katihar', 'Hidden', 'Web3',\n",
              "       'Mumbai Maharashtra', 'London', 'Sweden', 'psgtech', 'Coimbatore',\n",
              "       'WorldWide', 'New Delhi India', 'Antarctica', 'PAIN', 'haryana',\n",
              "       'Navi Mumbai, Maharashtra', 'कनॉट प्लेस, नई दिल्ली',\n",
              "       'Calcutta  RTs not endorsement', 'mumbai', 'Faridabad, India',\n",
              "       'Click 👇', 'खेत पर', 'Greater Faridabad, Haryana', 'Bhubaneswar',\n",
              "       'Eye of the storm, Centrist', 'https://t.me/findocequity',\n",
              "       'Bhubaneshwar, India', 'Canada', 'Vishakhapatnam, India',\n",
              "       'Trading Desk', 'Tripura, India', 'Jis desh mein Ganga behti hain',\n",
              "       'Kolkata, India ', 'WEB', 'Ludhiana/Mumbai, India', 'Durg, India',\n",
              "       'jammu', 'Not SEBI Registered ', 'Rahuri, Ahmednagar',\n",
              "       'Surat/ Noida/ Patna, India', 'Bengaluru | Chennai ', '🇮🇳',\n",
              "       'Kozhikode, India', 'From Kolkata, India',\n",
              "       'India  Whatsapp: 9872387700', 'marketmarker@yahoo.com',\n",
              "       'Remote / Delhi ', 'Out of Google Map', 'Howrah, Haora', 'Bhopal ',\n",
              "       ' Halvad', 'Jabalpur, India', 'Daytona Beach, FL', 'Himachal ',\n",
              "       'Delhi NCR', 'Gurgaon 🌍 🌏 🌎 world', 'Mysore, India',\n",
              "       'Udaipur, Rajasthan, India', 'Ahmdabad ', 'Mohali, India',\n",
              "       'गुजरात, भारत', 'Bathinda, India', 'Samba, Jammu And Kashmir',\n",
              "       'PinkCity', 'Cosmos', 'कानपुर, भारत', 'बैंगलुरु, भारत',\n",
              "       'C-56/11, GF, Sector 62, Noida ', 'Ongole, India', 'Ghatal',\n",
              "       'INDIAN', 'Pune, Maharashtra, India🇮🇳', 'Dubai', 'Patna, India',\n",
              "       'Noida, Uttar Pradesh', 'Delhi, India ', 'Mumbai Always',\n",
              "       'Greater Noida, Uttar Pradesh', 'Tubbytronic Superdome ',\n",
              "       'Odisha, India', 'Not yet defined ', 'Hyderabad - India',\n",
              "       'Goa, India', 'कोलकाता, भारत', 'Greater Noida, India',\n",
              "       'Delhi/Gurgaon/Noida', 'chandigarh', 'NY纽约',\n",
              "       '4, Lee Road, Vaibhav, 5th Floor, Kolkata – 700 020', 'HR10',\n",
              "       'Not Investement Advice!', 'Kerala, India', 'Chandigarh, India',\n",
              "       'India-Delhi', 'Gaya,  Bihar India', 'India, Bangladesh, Vietnam',\n",
              "       'jogeshwari', 'SAMASTIPUR', 'Thane , Mumbai, India ',\n",
              "       'Woodford Green', 'नई दिल्ली, भारत', 'Kampala, Uganda',\n",
              "       '✉️ Stockstudy8@Gmail.com', 'Viman nagar, Pune 411014',\n",
              "       'Chandrapur, India', 'On your Smartphone & Smart TV ',\n",
              "       'Jebel Ali Free Zone, Dubai', 'Aurangabad, India',\n",
              "       'Andheri West, Mumbai', 'Allahabad, India', 'Bengaluru, Karnataka',\n",
              "       'Dublin, OH', 'HOSUR', 'स्वदेशे भुवनत्रयम्',\n",
              "       '\"Vasudhaiva Kutumbakam..\"', 'Unavailable',\n",
              "       'Mumbai, Maharashtra, India ', 'Omnipresent', 'Gurugram',\n",
              "       'Himachal Pradesh, India', 'Hindustan', 'PAN INDIA',\n",
              "       'Khalilabad, India', 'Gwalior, India', 'Copenhagen, Denmark',\n",
              "       'Kangra', 'Raipur, Cchattishgarh, India', 'odisha',\n",
              "       'Mangalore, India', 'Delhi, Mumbai, India', 'ahmedabad, gujarat',\n",
              "       'USA', 'Kanpur', 'Baramati', 'Delhi and Mumbai', 'BHARAT (INDIA)',\n",
              "       'Toronto, Ontario', 'Universe|Writer|Microbiologist',\n",
              "       'Bihar Sharif, India', 'Film city, Noida ',\n",
              "       '867 Warren Palo Alto Ca, 94303', 'Birmingham, England',\n",
              "       'Aurangabad', 'Mumbai, Cochin', 'Manipal', 'NOIDA',\n",
              "       'bhopal, madhya pradesh', \"In Everyone's ❤️ Pinned Tweet\",\n",
              "       'Here and there!', 'Wonderland', 'Azamgarh, India',\n",
              "       'Khairatabad, Hyderabad', 'ORG.FARMING CAN CHANGE D WORLD',\n",
              "       'Chennai,TamilNadu,India', 'Cayman Islands',\n",
              "       'Madhya Pradesh, India', 'Telegram (@InvestRepeat):',\n",
              "       'Mannheim, Germany', 'Schaumburg, Illinois USA', 'Mohali, Punjab',\n",
              "       'Seoul, Republic of Korea', 'Amritsar, India',\n",
              "       'San Francisco Bay Area', 'Honolulu, HI', 'Goa/ Mumbai/ Assam',\n",
              "       'By Suy e Kezz | Brasil', 'EARTH', 'Bhubaneswar, India',\n",
              "       'बिहार, भारत', 'Mumbai, Nariman point',\n",
              "       'China/Russia/USA/India/Africa', 'Bhilwara, India', 'Sikar, India',\n",
              "       'delhi', 'PeepingMoon HQ, Mumbai', 'Australia', 'San Ramon, CA',\n",
              "       'New Azimabad Colony, Patna, Bi', 'Bangtan Universe⁷⟭⟬💜⟬⟭⁷',\n",
              "       ' mumbai', 'Dehradun, India', 'Scotland', 'Faridabad',\n",
              "       'www.empowertostrive.com', 'गुड़गांव, भारत', 'No GPS here !!',\n",
              "       'New  Delhi, India', 'Chembur,  Mumbai 400071.', 'Dimapur, India',\n",
              "       'Sant Ravidas Nagar', 'New Delhi - India', 'Hyderabad, India ',\n",
              "       'Dalal Street, India'], dtype=object)"
            ]
          },
          "metadata": {},
          "execution_count": 45
        }
      ]
    },
    {
      "cell_type": "code",
      "source": [
        "df=tweets_df.copy()\n",
        "df.shape"
      ],
      "metadata": {
        "colab": {
          "base_uri": "https://localhost:8080/"
        },
        "id": "VVITJcq2SNfj",
        "outputId": "bb17f77c-a429-4668-9790-0b5bb8db7e74"
      },
      "execution_count": null,
      "outputs": [
        {
          "output_type": "execute_result",
          "data": {
            "text/plain": [
              "(4123, 12)"
            ]
          },
          "metadata": {},
          "execution_count": 46
        }
      ]
    },
    {
      "cell_type": "code",
      "source": [
        "# Replace multiple values with a new value for an individual DataFrame column.\n",
        "df['Location'] = df['Location'].replace([''],'Not mentioned')\n"
      ],
      "metadata": {
        "id": "nZ627wI6Gqxc"
      },
      "execution_count": null,
      "outputs": []
    },
    {
      "cell_type": "code",
      "source": [
        "location_stats = df['Location'].value_counts(ascending=False)\n",
        "location_stats\n"
      ],
      "metadata": {
        "colab": {
          "base_uri": "https://localhost:8080/"
        },
        "id": "tfa4sU_sVVhZ",
        "outputId": "5555e9c6-fc1d-475c-f7e8-6d32299cd817"
      },
      "execution_count": null,
      "outputs": [
        {
          "output_type": "execute_result",
          "data": {
            "text/plain": [
              "Not mentioned                 996\n",
              "India                         811\n",
              "Mumbai, India                 297\n",
              "Mumbai                        204\n",
              "New Delhi, India              200\n",
              "                             ... \n",
              "PAIN                            1\n",
              "San Francisco Bay Area, US      1\n",
              "HYDERABAD                       1\n",
              "dead end U turn ತಗೊಳ್ಳಿ         1\n",
              "GLOBALLY                        1\n",
              "Name: Location, Length: 450, dtype: int64"
            ]
          },
          "metadata": {},
          "execution_count": 48
        }
      ]
    },
    {
      "cell_type": "code",
      "source": [
        "location_less_than_10=location_stats[location_stats<=10]\n",
        "location_less_than_10"
      ],
      "metadata": {
        "colab": {
          "base_uri": "https://localhost:8080/"
        },
        "id": "smGsiSZ9VVjp",
        "outputId": "12cac03e-f6d9-45ff-ed95-010ed81bbad7"
      },
      "execution_count": null,
      "outputs": [
        {
          "output_type": "execute_result",
          "data": {
            "text/plain": [
              "Singapore                        10\n",
              "Bengaluru South, India           10\n",
              "Toronto, Ontario 🇨🇦🇮🇳             9\n",
              "பெங்களுரூ                         9\n",
              "Kompally,Hyderabad,Telangana.     9\n",
              "                                 ..\n",
              "PAIN                              1\n",
              "San Francisco Bay Area, US        1\n",
              "HYDERABAD                         1\n",
              "dead end U turn ತಗೊಳ್ಳಿ           1\n",
              "GLOBALLY                          1\n",
              "Name: Location, Length: 418, dtype: int64"
            ]
          },
          "metadata": {},
          "execution_count": 49
        }
      ]
    },
    {
      "cell_type": "code",
      "source": [
        "df['Location'] = df.Location.apply(lambda x: 'other' if x in location_less_than_10 else x)\n",
        "df['Location'].value_counts()"
      ],
      "metadata": {
        "colab": {
          "base_uri": "https://localhost:8080/"
        },
        "id": "OWKkBUkmVVpH",
        "outputId": "bb465e2c-eae6-4cfd-c665-d7ba29181668"
      },
      "execution_count": null,
      "outputs": [
        {
          "output_type": "execute_result",
          "data": {
            "text/plain": [
              "Not mentioned               996\n",
              "other                       827\n",
              "India                       811\n",
              "Mumbai, India               297\n",
              "Mumbai                      204\n",
              "New Delhi, India            200\n",
              "Bengaluru, India            105\n",
              "Noida                        96\n",
              "New Delhi                    61\n",
              "India                        46\n",
              "Hyderabad, India             34\n",
              "Delhi, India                 33\n",
              "Bangalore                    29\n",
              "india                        27\n",
              "Pune, India                  26\n",
              "Hyderabad                    26\n",
              "Chennai, India               24\n",
              "Kolkata, India               24\n",
              "Pune                         23\n",
              "Salem, Tamil Nadu, India     22\n",
              "Gurgaon, India               21\n",
              "Noida, India                 21\n",
              "Chennai                      20\n",
              "Jaipur, India                20\n",
              "Katrination                  19\n",
              "Kolkata                      18\n",
              "Pune, Maharashtra            16\n",
              "Kolkata                      15\n",
              "INDIA                        15\n",
              "CHENNAI                      14\n",
              "National Capital Region      11\n",
              "Gujarat, India               11\n",
              "Global                       11\n",
              "Name: Location, dtype: int64"
            ]
          },
          "metadata": {},
          "execution_count": 50
        }
      ]
    },
    {
      "cell_type": "markdown",
      "source": [
        "EDA: Mumbia have more tweet count"
      ],
      "metadata": {
        "id": "yoknS-h75lXC"
      }
    },
    {
      "cell_type": "code",
      "source": [],
      "metadata": {
        "id": "K98_3BKY5K-9"
      },
      "execution_count": null,
      "outputs": []
    },
    {
      "cell_type": "code",
      "source": [
        "df['Location'].value_counts().plot(kind='bar');"
      ],
      "metadata": {
        "colab": {
          "base_uri": "https://localhost:8080/",
          "height": 379
        },
        "id": "OfWFtdMXVVsg",
        "outputId": "2ce46c9d-de23-4a23-ce41-712805df4471"
      },
      "execution_count": null,
      "outputs": [
        {
          "output_type": "display_data",
          "data": {
            "text/plain": [
              "<Figure size 432x288 with 1 Axes>"
            ],
            "image/png": "[encoded data removed]"
          },
          "metadata": {
            "needs_background": "light"
          }
        }
      ]
    },
    {
      "cell_type": "markdown",
      "source": [
        "How many influential people are talking about Nykaa"
      ],
      "metadata": {
        "id": "F6QvtsdSWAmK"
      }
    },
    {
      "cell_type": "code",
      "source": [
        "df.columns\n"
      ],
      "metadata": {
        "colab": {
          "base_uri": "https://localhost:8080/"
        },
        "id": "XZGfBD20VVuP",
        "outputId": "4d262ff0-963f-4896-c1ac-ec9977efb711"
      },
      "execution_count": null,
      "outputs": [
        {
          "output_type": "execute_result",
          "data": {
            "text/plain": [
              "Index(['User', 'Date Created', 'Day', 'Month', 'Number of Likes',\n",
              "       'Source of Tweet', 'Tweet', 'Location', 'RetweetCount', 'Is Verified',\n",
              "       'Followers', 'sentiment_analysis'],\n",
              "      dtype='object')"
            ]
          },
          "metadata": {},
          "execution_count": 52
        }
      ]
    },
    {
      "cell_type": "code",
      "source": [
        "df['Is Verified'].sum()\n"
      ],
      "metadata": {
        "colab": {
          "base_uri": "https://localhost:8080/"
        },
        "id": "p2gZzCEoVVxb",
        "outputId": "3b1db958-4a3d-4334-afc6-3726a6675ec8"
      },
      "execution_count": null,
      "outputs": [
        {
          "output_type": "execute_result",
          "data": {
            "text/plain": [
              "955"
            ]
          },
          "metadata": {},
          "execution_count": 53
        }
      ]
    },
    {
      "cell_type": "markdown",
      "source": [
        "people are influential or we can say which are celebrities"
      ],
      "metadata": {
        "id": "EHtbfbzQWTCt"
      }
    },
    {
      "cell_type": "code",
      "source": [
        "verified_user_df=df[df['Is Verified']==True].groupby(['User', 'Date Created', 'Day', 'Month', 'Number of Likes',\n",
        "       'Source of Tweet', 'Tweet', 'Location', 'RetweetCount', 'Is Verified',\n",
        "       'Followers', 'sentiment_analysis']).size().reset_index(name='count')\n",
        "\n",
        "\n",
        "verified_user_df.tail()\n"
      ],
      "metadata": {
        "colab": {
          "base_uri": "https://localhost:8080/",
          "height": 372
        },
        "id": "6kaiUqfdWPXm",
        "outputId": "aec97521-d493-45b7-911b-f4d9f6d075b5"
      },
      "execution_count": null,
      "outputs": [
        {
          "output_type": "execute_result",
          "data": {
            "text/plain": [
              "         User              Date Created  Day  Month  Number of Likes  \\\n",
              "950  vccircle 2022-11-09 15:14:16+00:00    9     11                1   \n",
              "951  vccircle 2022-11-16 08:39:45+00:00   16     11                0   \n",
              "952  vccircle 2022-11-17 09:36:35+00:00   17     11                0   \n",
              "953  vccircle 2022-11-18 05:29:50+00:00   18     11                1   \n",
              "954  vccircle 2022-11-22 12:15:27+00:00   22     11                0   \n",
              "\n",
              "    Source of Tweet                                              Tweet  \\\n",
              "950  Hootsuite Inc.  What Is The Secret Of s Success Falguni Nayar ...   \n",
              "951  Hootsuite Inc.   Reliance Retail Eyeing TA Associates In TCNS ...   \n",
              "952  Hootsuite Inc.  Here s Why Has Slipped 20 In Last Four Session...   \n",
              "953  Hootsuite Inc.  TPG Likely To Have Sold Some In Again https t ...   \n",
              "954  Hootsuite Inc.   s CFO Arvind Agarwal Steps https t co MnL05dEXLe   \n",
              "\n",
              "      Location  RetweetCount  Is Verified  Followers sentiment_analysis  count  \n",
              "950  New Delhi             0         True      54070           Negative      1  \n",
              "951  New Delhi             0         True      54070            Neutral      1  \n",
              "952  New Delhi             0         True      54070            Neutral      1  \n",
              "953  New Delhi             1         True      54070            Neutral      1  \n",
              "954  New Delhi             3         True      54070            Neutral      1  "
            ],
            "text/html": [
              "\n",
              "  <div id=\"df-37ebc006-83db-4a01-8f4f-b4eb40ad09c4\">\n",
              "    <div class=\"colab-df-container\">\n",
              "      <div>\n",
              "<style scoped>\n",
              "    .dataframe tbody tr th:only-of-type {\n",
              "        vertical-align: middle;\n",
              "    }\n",
              "\n",
              "    .dataframe tbody tr th {\n",
              "        vertical-align: top;\n",
              "    }\n",
              "\n",
              "    .dataframe thead th {\n",
              "        text-align: right;\n",
              "    }\n",
              "</style>\n",
              "<table border=\"1\" class=\"dataframe\">\n",
              "  <thead>\n",
              "    <tr style=\"text-align: right;\">\n",
              "      <th></th>\n",
              "      <th>User</th>\n",
              "      <th>Date Created</th>\n",
              "      <th>Day</th>\n",
              "      <th>Month</th>\n",
              "      <th>Number of Likes</th>\n",
              "      <th>Source of Tweet</th>\n",
              "      <th>Tweet</th>\n",
              "      <th>Location</th>\n",
              "      <th>RetweetCount</th>\n",
              "      <th>Is Verified</th>\n",
              "      <th>Followers</th>\n",
              "      <th>sentiment_analysis</th>\n",
              "      <th>count</th>\n",
              "    </tr>\n",
              "  </thead>\n",
              "  <tbody>\n",
              "    <tr>\n",
              "      <th>950</th>\n",
              "      <td>vccircle</td>\n",
              "      <td>2022-11-09 15:14:16+00:00</td>\n",
              "      <td>9</td>\n",
              "      <td>11</td>\n",
              "      <td>1</td>\n",
              "      <td>Hootsuite Inc.</td>\n",
              "      <td>What Is The Secret Of s Success Falguni Nayar ...</td>\n",
              "      <td>New Delhi</td>\n",
              "      <td>0</td>\n",
              "      <td>True</td>\n",
              "      <td>54070</td>\n",
              "      <td>Negative</td>\n",
              "      <td>1</td>\n",
              "    </tr>\n",
              "    <tr>\n",
              "      <th>951</th>\n",
              "      <td>vccircle</td>\n",
              "      <td>2022-11-16 08:39:45+00:00</td>\n",
              "      <td>16</td>\n",
              "      <td>11</td>\n",
              "      <td>0</td>\n",
              "      <td>Hootsuite Inc.</td>\n",
              "      <td>Reliance Retail Eyeing TA Associates In TCNS ...</td>\n",
              "      <td>New Delhi</td>\n",
              "      <td>0</td>\n",
              "      <td>True</td>\n",
              "      <td>54070</td>\n",
              "      <td>Neutral</td>\n",
              "      <td>1</td>\n",
              "    </tr>\n",
              "    <tr>\n",
              "      <th>952</th>\n",
              "      <td>vccircle</td>\n",
              "      <td>2022-11-17 09:36:35+00:00</td>\n",
              "      <td>17</td>\n",
              "      <td>11</td>\n",
              "      <td>0</td>\n",
              "      <td>Hootsuite Inc.</td>\n",
              "      <td>Here s Why Has Slipped 20 In Last Four Session...</td>\n",
              "      <td>New Delhi</td>\n",
              "      <td>0</td>\n",
              "      <td>True</td>\n",
              "      <td>54070</td>\n",
              "      <td>Neutral</td>\n",
              "      <td>1</td>\n",
              "    </tr>\n",
              "    <tr>\n",
              "      <th>953</th>\n",
              "      <td>vccircle</td>\n",
              "      <td>2022-11-18 05:29:50+00:00</td>\n",
              "      <td>18</td>\n",
              "      <td>11</td>\n",
              "      <td>1</td>\n",
              "      <td>Hootsuite Inc.</td>\n",
              "      <td>TPG Likely To Have Sold Some In Again https t ...</td>\n",
              "      <td>New Delhi</td>\n",
              "      <td>1</td>\n",
              "      <td>True</td>\n",
              "      <td>54070</td>\n",
              "      <td>Neutral</td>\n",
              "      <td>1</td>\n",
              "    </tr>\n",
              "    <tr>\n",
              "      <th>954</th>\n",
              "      <td>vccircle</td>\n",
              "      <td>2022-11-22 12:15:27+00:00</td>\n",
              "      <td>22</td>\n",
              "      <td>11</td>\n",
              "      <td>0</td>\n",
              "      <td>Hootsuite Inc.</td>\n",
              "      <td>s CFO Arvind Agarwal Steps https t co MnL05dEXLe</td>\n",
              "      <td>New Delhi</td>\n",
              "      <td>3</td>\n",
              "      <td>True</td>\n",
              "      <td>54070</td>\n",
              "      <td>Neutral</td>\n",
              "      <td>1</td>\n",
              "    </tr>\n",
              "  </tbody>\n",
              "</table>\n",
              "</div>\n",
              "      <button class=\"colab-df-convert\" onclick=\"convertToInteractive('df-37ebc006-83db-4a01-8f4f-b4eb40ad09c4')\"\n",
              "              title=\"Convert this dataframe to an interactive table.\"\n",
              "              style=\"display:none;\">\n",
              "        \n",
              "  <svg xmlns=\"http://www.w3.org/2000/svg\" height=\"24px\"viewBox=\"0 0 24 24\"\n",
              "       width=\"24px\">\n",
              "    <path d=\"M0 0h24v24H0V0z\" fill=\"none\"/>\n",
              "    <path d=\"M18.56 5.44l.94 2.06.94-2.06 2.06-.94-2.06-.94-.94-2.06-.94 2.06-2.06.94zm-11 1L8.5 8.5l.94-2.06 2.06-.94-2.06-.94L8.5 2.5l-.94 2.06-2.06.94zm10 10l.94 2.06.94-2.06 2.06-.94-2.06-.94-.94-2.06-.94 2.06-2.06.94z\"/><path d=\"M17.41 7.96l-1.37-1.37c-.4-.4-.92-.59-1.43-.59-.52 0-1.04.2-1.43.59L10.3 9.45l-7.72 7.72c-.78.78-.78 2.05 0 2.83L4 21.41c.39.39.9.59 1.41.59.51 0 1.02-.2 1.41-.59l7.78-7.78 2.81-2.81c.8-.78.8-2.07 0-2.86zM5.41 20L4 18.59l7.72-7.72 1.47 1.35L5.41 20z\"/>\n",
              "  </svg>\n",
              "      </button>\n",
              "      \n",
              "  <style>\n",
              "    .colab-df-container {\n",
              "      display:flex;\n",
              "      flex-wrap:wrap;\n",
              "      gap: 12px;\n",
              "    }\n",
              "\n",
              "    .colab-df-convert {\n",
              "      background-color: #E8F0FE;\n",
              "      border: none;\n",
              "      border-radius: 50%;\n",
              "      cursor: pointer;\n",
              "      display: none;\n",
              "      fill: #1967D2;\n",
              "      height: 32px;\n",
              "      padding: 0 0 0 0;\n",
              "      width: 32px;\n",
              "    }\n",
              "\n",
              "    .colab-df-convert:hover {\n",
              "      background-color: #E2EBFA;\n",
              "      box-shadow: 0px 1px 2px rgba(60, 64, 67, 0.3), 0px 1px 3px 1px rgba(60, 64, 67, 0.15);\n",
              "      fill: #174EA6;\n",
              "    }\n",
              "\n",
              "    [theme=dark] .colab-df-convert {\n",
              "      background-color: #3B4455;\n",
              "      fill: #D2E3FC;\n",
              "    }\n",
              "\n",
              "    [theme=dark] .colab-df-convert:hover {\n",
              "      background-color: #434B5C;\n",
              "      box-shadow: 0px 1px 3px 1px rgba(0, 0, 0, 0.15);\n",
              "      filter: drop-shadow(0px 1px 2px rgba(0, 0, 0, 0.3));\n",
              "      fill: #FFFFFF;\n",
              "    }\n",
              "  </style>\n",
              "\n",
              "      <script>\n",
              "        const buttonEl =\n",
              "          document.querySelector('#df-37ebc006-83db-4a01-8f4f-b4eb40ad09c4 button.colab-df-convert');\n",
              "        buttonEl.style.display =\n",
              "          google.colab.kernel.accessAllowed ? 'block' : 'none';\n",
              "\n",
              "        async function convertToInteractive(key) {\n",
              "          const element = document.querySelector('#df-37ebc006-83db-4a01-8f4f-b4eb40ad09c4');\n",
              "          const dataTable =\n",
              "            await google.colab.kernel.invokeFunction('convertToInteractive',\n",
              "                                                     [key], {});\n",
              "          if (!dataTable) return;\n",
              "\n",
              "          const docLinkHtml = 'Like what you see? Visit the ' +\n",
              "            '<a target=\"_blank\" href=https://colab.research.google.com/notebooks/data_table.ipynb>data table notebook</a>'\n",
              "            + ' to learn more about interactive tables.';\n",
              "          element.innerHTML = '';\n",
              "          dataTable['output_type'] = 'display_data';\n",
              "          await google.colab.output.renderOutput(dataTable, element);\n",
              "          const docLink = document.createElement('div');\n",
              "          docLink.innerHTML = docLinkHtml;\n",
              "          element.appendChild(docLink);\n",
              "        }\n",
              "      </script>\n",
              "    </div>\n",
              "  </div>\n",
              "  "
            ]
          },
          "metadata": {},
          "execution_count": 57
        }
      ]
    },
    {
      "cell_type": "code",
      "source": [
        "verified_user_df['User'].unique()"
      ],
      "metadata": {
        "colab": {
          "base_uri": "https://localhost:8080/"
        },
        "id": "39LP8EW5WPZ-",
        "outputId": "6ce0e1bc-fdb6-4de4-89e4-f3026ddf72cb"
      },
      "execution_count": null,
      "outputs": [
        {
          "output_type": "execute_result",
          "data": {
            "text/plain": [
              "array(['5paisa', 'ABPNews', 'AEHarshada', 'AlArabiya_Eng',\n",
              "       'AmarUjalaNews', 'AnilSinghvi_', 'AshVerma111', 'AsianetNewsSN',\n",
              "       'BadaBusinessOff', 'BiIndia', 'Bollyhungama', 'BrandStoryboard',\n",
              "       'CNBCBajar', 'CNBCTV18Live', 'CNBCTV18News', 'CNBCYoungTurks',\n",
              "       'CNBC_Awaaz', 'Cashkarocom', 'DainikBhaskar', 'DelhiTimesTweet',\n",
              "       'DnaHindi', 'ELLEINDIA', 'ETBrandEquity', 'ETHindi', 'ETMarkets',\n",
              "       'ETNOWlive', 'ETNowSwadesh', 'ETRetail', 'ET_CIO', 'ETtech',\n",
              "       'EarshotPodcasts', 'EconomicTimes', 'Ei_Samay', 'EntrepreneurIND',\n",
              "       'FeminaIndia', 'FinancialXpress', 'FortuneIndia', 'GourabDas28',\n",
              "       'GraziaIndia', 'INDmoneyApp', 'Inc42', 'IndiaToday',\n",
              "       'JagbaniOnline', 'JagranNews', 'KarnatakaBank', 'LKPSECURITIES',\n",
              "       'MirrorNow', 'MoneycontrolH', 'MotilalOswalLtd', 'NITIE_Official',\n",
              "       'News18Kannada', 'Nigel__DSouza', 'NtvTeluguLive', 'Nupurkunia',\n",
              "       'Oneindia', 'OneindiaKannada', 'PeopleMatters2', 'PoddarNisha',\n",
              "       'PragattiOberoi8', 'RaviPksThakur', 'RuPay_npci', 'Shilparanipeta',\n",
              "       'Stockstudy8', 'StocktwitsIndia', 'SumitResearch',\n",
              "       'TV9Bharatvarsh', 'TarunPratap05', 'TheOfficialSBI', 'TheQuint',\n",
              "       'TheWeekLive', 'TickertapeIN', 'TimesNow', 'UCOBankOfficial',\n",
              "       'Ujjwal_Patni', 'VOGUEIndia', 'VipulS1206', 'YatinMota',\n",
              "       'YourStoryCo', 'ZeeBusiness', 'ZeeNewsEnglish', '_anishaj',\n",
              "       '_prashantnair', 'abhiruproy30', 'abhiyan0', 'ambareeshbaliga',\n",
              "       'ami_b_shah', 'ani_digital', 'b50', 'blitzkreigm', 'bqprime',\n",
              "       'bsindia', 'budsnberriesin', 'business_today', 'businessline',\n",
              "       'chandrarsrikant', 'coupondunia', 'debanganaghosh4', 'deepsekharc',\n",
              "       'digvi1995', 'dna', 'editorji', 'filmfare', 'firstpost',\n",
              "       'htTweets', 'iamrahuloberoi', 'ians_india', 'indiacom',\n",
              "       'indiatvnews', 'isangeetaojha', 'kohliseetu', 'kotaksecurities',\n",
              "       'livemint', 'lokmat', 'madversity', 'mataonline', 'middaygujarati',\n",
              "       'moneycontrolcom', 'news18dotcom', 'nikita_vashisht', 'nikkhill',\n",
              "       'nitinsethi80', 'probo_india', 'rajeshmET', 'rathi_online',\n",
              "       'rudra_tapanjana', 'sakshibatra18', 'senmeghna', 'sidd_khemka',\n",
              "       'stockgro', 'surbhijain1504', 'thebetterindia', 'thehindubiz',\n",
              "       'ttindia', 'tv9kannada', 'upstox', 'vccircle'], dtype=object)"
            ]
          },
          "metadata": {},
          "execution_count": 58
        }
      ]
    },
    {
      "cell_type": "markdown",
      "source": [
        "10000 atleast followers as influential people"
      ],
      "metadata": {
        "id": "RDiL25IjWtiv"
      }
    },
    {
      "cell_type": "code",
      "source": [
        "influential_people=verified_user_df.loc[verified_user_df['Followers']>10000] \n",
        "influential_people['User'].unique()\n"
      ],
      "metadata": {
        "colab": {
          "base_uri": "https://localhost:8080/"
        },
        "id": "hdzX0tO8WPeG",
        "outputId": "70777ec2-4870-4c45-9f2e-05756dbb6cf4"
      },
      "execution_count": null,
      "outputs": [
        {
          "output_type": "execute_result",
          "data": {
            "text/plain": [
              "array(['5paisa', 'ABPNews', 'AEHarshada', 'AlArabiya_Eng',\n",
              "       'AmarUjalaNews', 'AnilSinghvi_', 'AshVerma111', 'AsianetNewsSN',\n",
              "       'BadaBusinessOff', 'BiIndia', 'Bollyhungama', 'BrandStoryboard',\n",
              "       'CNBCBajar', 'CNBCTV18Live', 'CNBCTV18News', 'CNBCYoungTurks',\n",
              "       'CNBC_Awaaz', 'Cashkarocom', 'DainikBhaskar', 'DelhiTimesTweet',\n",
              "       'ELLEINDIA', 'ETBrandEquity', 'ETHindi', 'ETMarkets', 'ETNOWlive',\n",
              "       'ETNowSwadesh', 'ETRetail', 'ET_CIO', 'ETtech', 'EarshotPodcasts',\n",
              "       'EconomicTimes', 'Ei_Samay', 'EntrepreneurIND', 'FeminaIndia',\n",
              "       'FinancialXpress', 'FortuneIndia', 'GraziaIndia', 'INDmoneyApp',\n",
              "       'Inc42', 'IndiaToday', 'JagbaniOnline', 'JagranNews',\n",
              "       'KarnatakaBank', 'LKPSECURITIES', 'MirrorNow', 'MoneycontrolH',\n",
              "       'MotilalOswalLtd', 'News18Kannada', 'Nigel__DSouza',\n",
              "       'NtvTeluguLive', 'Oneindia', 'OneindiaKannada', 'PeopleMatters2',\n",
              "       'PoddarNisha', 'RuPay_npci', 'Stockstudy8', 'StocktwitsIndia',\n",
              "       'SumitResearch', 'TV9Bharatvarsh', 'TheOfficialSBI', 'TheQuint',\n",
              "       'TheWeekLive', 'TickertapeIN', 'TimesNow', 'UCOBankOfficial',\n",
              "       'Ujjwal_Patni', 'VOGUEIndia', 'YatinMota', 'YourStoryCo',\n",
              "       'ZeeBusiness', 'ZeeNewsEnglish', '_anishaj', '_prashantnair',\n",
              "       'ambareeshbaliga', 'ani_digital', 'b50', 'blitzkreigm', 'bqprime',\n",
              "       'bsindia', 'business_today', 'businessline', 'chandrarsrikant',\n",
              "       'dna', 'editorji', 'filmfare', 'firstpost', 'htTweets',\n",
              "       'ians_india', 'indiacom', 'indiatvnews', 'kohliseetu',\n",
              "       'kotaksecurities', 'livemint', 'lokmat', 'madversity',\n",
              "       'mataonline', 'moneycontrolcom', 'news18dotcom', 'stockgro',\n",
              "       'thebetterindia', 'thehindubiz', 'ttindia', 'tv9kannada', 'upstox',\n",
              "       'vccircle'], dtype=object)"
            ]
          },
          "metadata": {},
          "execution_count": 59
        }
      ]
    },
    {
      "cell_type": "code",
      "source": [
        "# tweets_df.to_csv('WEB SCRAPPING NYKAA TWEETS.csv')\n"
      ],
      "metadata": {
        "id": "X1Ibu9cgWPg5"
      },
      "execution_count": null,
      "outputs": []
    },
    {
      "cell_type": "markdown",
      "source": [
        "QNS>1)What is the % growth in the tweet as compared to last month?"
      ],
      "metadata": {
        "id": "CBYCi3f_W9k1"
      }
    },
    {
      "cell_type": "code",
      "source": [
        "print(\"Growth compare to two months:\",(November_df['Tweet'].count()-Octomber_df['Tweet'].count())/Octomber_df['Tweet'].count()*100)\n"
      ],
      "metadata": {
        "colab": {
          "base_uri": "https://localhost:8080/"
        },
        "id": "-rBKVFweWPj8",
        "outputId": "2d3f7007-5eed-4455-cb85-27f9dfdaa052"
      },
      "execution_count": null,
      "outputs": [
        {
          "output_type": "stream",
          "name": "stdout",
          "text": [
            "Growth compare to two months: 85.2212389380531\n"
          ]
        }
      ]
    },
    {
      "cell_type": "markdown",
      "source": [
        "Qns>2)How many % of tweets were of positive sentiments"
      ],
      "metadata": {
        "id": "1810QsB5XSHC"
      }
    },
    {
      "cell_type": "code",
      "source": [
        "print(\"Total Positive Value:\",tweets_df['sentiment_analysis'].value_counts()['Positive'])\n"
      ],
      "metadata": {
        "colab": {
          "base_uri": "https://localhost:8080/"
        },
        "id": "AiBAdg8LXS6c",
        "outputId": "37b80edc-5baf-4162-89f9-f4de320dabad"
      },
      "execution_count": null,
      "outputs": [
        {
          "output_type": "stream",
          "name": "stdout",
          "text": [
            "Total Positive Value: 1411\n"
          ]
        }
      ]
    },
    {
      "cell_type": "markdown",
      "source": [
        "Qns>3)Top 5 most viral tweets (based upon retweets)"
      ],
      "metadata": {
        "id": "zSZpB3LQXXRk"
      }
    },
    {
      "cell_type": "code",
      "source": [
        "top_viral_tweet_df.head(5)\n"
      ],
      "metadata": {
        "colab": {
          "base_uri": "https://localhost:8080/",
          "height": 389
        },
        "id": "I4WTzAe4XZ6G",
        "outputId": "705bc21d-a1aa-4793-ac9b-f43a8221dee9"
      },
      "execution_count": null,
      "outputs": [
        {
          "output_type": "execute_result",
          "data": {
            "text/plain": [
              "                User              Date Created  Day  Month  Number of Likes  \\\n",
              "1469        shyamsek 2022-11-11 04:22:22+00:00   11     11             2291   \n",
              "122        Qid_Memez 2022-11-27 02:49:22+00:00   27     11             1662   \n",
              "644   darshitpatel84 2022-11-22 09:11:17+00:00   22     11             1268   \n",
              "3355    AnilSinghvi_ 2022-09-29 01:42:52+00:00   29      9             1152   \n",
              "1443        shyamsek 2022-11-11 05:56:33+00:00   11     11              674   \n",
              "\n",
              "          Source of Tweet                                              Tweet  \\\n",
              "1469  Twitter for Android  This is for investors Assume you hold 100 Nyka...   \n",
              "122   Twitter for Android                              https t co P8WpJ0cCMl   \n",
              "644       Twitter Web App  RIP Rest In Peace to Shareholders of U have St...   \n",
              "3355   Twitter for iPhone   You heard this Market is a great equalizer IT...   \n",
              "1443  Twitter for Android  Clearly fails the smell test When a Co with fo...   \n",
              "\n",
              "                   Location  RetweetCount  Is Verified  Followers  \\\n",
              "1469                CHENNAI           376        False      89311   \n",
              "122                                   128        False      63644   \n",
              "644   Ahmadabad City, India           110        False     109548   \n",
              "3355   Delhi, Mumbai, India            87         True     684846   \n",
              "1443                CHENNAI            87        False      89311   \n",
              "\n",
              "     sentiment_analysis  \n",
              "1469           Positive  \n",
              "122             Neutral  \n",
              "644             Neutral  \n",
              "3355           Positive  \n",
              "1443           Negative  "
            ],
            "text/html": [
              "\n",
              "  <div id=\"df-9b528e8a-bf56-4743-9665-184ab06f3929\">\n",
              "    <div class=\"colab-df-container\">\n",
              "      <div>\n",
              "<style scoped>\n",
              "    .dataframe tbody tr th:only-of-type {\n",
              "        vertical-align: middle;\n",
              "    }\n",
              "\n",
              "    .dataframe tbody tr th {\n",
              "        vertical-align: top;\n",
              "    }\n",
              "\n",
              "    .dataframe thead th {\n",
              "        text-align: right;\n",
              "    }\n",
              "</style>\n",
              "<table border=\"1\" class=\"dataframe\">\n",
              "  <thead>\n",
              "    <tr style=\"text-align: right;\">\n",
              "      <th></th>\n",
              "      <th>User</th>\n",
              "      <th>Date Created</th>\n",
              "      <th>Day</th>\n",
              "      <th>Month</th>\n",
              "      <th>Number of Likes</th>\n",
              "      <th>Source of Tweet</th>\n",
              "      <th>Tweet</th>\n",
              "      <th>Location</th>\n",
              "      <th>RetweetCount</th>\n",
              "      <th>Is Verified</th>\n",
              "      <th>Followers</th>\n",
              "      <th>sentiment_analysis</th>\n",
              "    </tr>\n",
              "  </thead>\n",
              "  <tbody>\n",
              "    <tr>\n",
              "      <th>1469</th>\n",
              "      <td>shyamsek</td>\n",
              "      <td>2022-11-11 04:22:22+00:00</td>\n",
              "      <td>11</td>\n",
              "      <td>11</td>\n",
              "      <td>2291</td>\n",
              "      <td>Twitter for Android</td>\n",
              "      <td>This is for investors Assume you hold 100 Nyka...</td>\n",
              "      <td>CHENNAI</td>\n",
              "      <td>376</td>\n",
              "      <td>False</td>\n",
              "      <td>89311</td>\n",
              "      <td>Positive</td>\n",
              "    </tr>\n",
              "    <tr>\n",
              "      <th>122</th>\n",
              "      <td>Qid_Memez</td>\n",
              "      <td>2022-11-27 02:49:22+00:00</td>\n",
              "      <td>27</td>\n",
              "      <td>11</td>\n",
              "      <td>1662</td>\n",
              "      <td>Twitter for Android</td>\n",
              "      <td>https t co P8WpJ0cCMl</td>\n",
              "      <td></td>\n",
              "      <td>128</td>\n",
              "      <td>False</td>\n",
              "      <td>63644</td>\n",
              "      <td>Neutral</td>\n",
              "    </tr>\n",
              "    <tr>\n",
              "      <th>644</th>\n",
              "      <td>darshitpatel84</td>\n",
              "      <td>2022-11-22 09:11:17+00:00</td>\n",
              "      <td>22</td>\n",
              "      <td>11</td>\n",
              "      <td>1268</td>\n",
              "      <td>Twitter Web App</td>\n",
              "      <td>RIP Rest In Peace to Shareholders of U have St...</td>\n",
              "      <td>Ahmadabad City, India</td>\n",
              "      <td>110</td>\n",
              "      <td>False</td>\n",
              "      <td>109548</td>\n",
              "      <td>Neutral</td>\n",
              "    </tr>\n",
              "    <tr>\n",
              "      <th>3355</th>\n",
              "      <td>AnilSinghvi_</td>\n",
              "      <td>2022-09-29 01:42:52+00:00</td>\n",
              "      <td>29</td>\n",
              "      <td>9</td>\n",
              "      <td>1152</td>\n",
              "      <td>Twitter for iPhone</td>\n",
              "      <td>You heard this Market is a great equalizer IT...</td>\n",
              "      <td>Delhi, Mumbai, India</td>\n",
              "      <td>87</td>\n",
              "      <td>True</td>\n",
              "      <td>684846</td>\n",
              "      <td>Positive</td>\n",
              "    </tr>\n",
              "    <tr>\n",
              "      <th>1443</th>\n",
              "      <td>shyamsek</td>\n",
              "      <td>2022-11-11 05:56:33+00:00</td>\n",
              "      <td>11</td>\n",
              "      <td>11</td>\n",
              "      <td>674</td>\n",
              "      <td>Twitter for Android</td>\n",
              "      <td>Clearly fails the smell test When a Co with fo...</td>\n",
              "      <td>CHENNAI</td>\n",
              "      <td>87</td>\n",
              "      <td>False</td>\n",
              "      <td>89311</td>\n",
              "      <td>Negative</td>\n",
              "    </tr>\n",
              "  </tbody>\n",
              "</table>\n",
              "</div>\n",
              "      <button class=\"colab-df-convert\" onclick=\"convertToInteractive('df-9b528e8a-bf56-4743-9665-184ab06f3929')\"\n",
              "              title=\"Convert this dataframe to an interactive table.\"\n",
              "              style=\"display:none;\">\n",
              "        \n",
              "  <svg xmlns=\"http://www.w3.org/2000/svg\" height=\"24px\"viewBox=\"0 0 24 24\"\n",
              "       width=\"24px\">\n",
              "    <path d=\"M0 0h24v24H0V0z\" fill=\"none\"/>\n",
              "    <path d=\"M18.56 5.44l.94 2.06.94-2.06 2.06-.94-2.06-.94-.94-2.06-.94 2.06-2.06.94zm-11 1L8.5 8.5l.94-2.06 2.06-.94-2.06-.94L8.5 2.5l-.94 2.06-2.06.94zm10 10l.94 2.06.94-2.06 2.06-.94-2.06-.94-.94-2.06-.94 2.06-2.06.94z\"/><path d=\"M17.41 7.96l-1.37-1.37c-.4-.4-.92-.59-1.43-.59-.52 0-1.04.2-1.43.59L10.3 9.45l-7.72 7.72c-.78.78-.78 2.05 0 2.83L4 21.41c.39.39.9.59 1.41.59.51 0 1.02-.2 1.41-.59l7.78-7.78 2.81-2.81c.8-.78.8-2.07 0-2.86zM5.41 20L4 18.59l7.72-7.72 1.47 1.35L5.41 20z\"/>\n",
              "  </svg>\n",
              "      </button>\n",
              "      \n",
              "  <style>\n",
              "    .colab-df-container {\n",
              "      display:flex;\n",
              "      flex-wrap:wrap;\n",
              "      gap: 12px;\n",
              "    }\n",
              "\n",
              "    .colab-df-convert {\n",
              "      background-color: #E8F0FE;\n",
              "      border: none;\n",
              "      border-radius: 50%;\n",
              "      cursor: pointer;\n",
              "      display: none;\n",
              "      fill: #1967D2;\n",
              "      height: 32px;\n",
              "      padding: 0 0 0 0;\n",
              "      width: 32px;\n",
              "    }\n",
              "\n",
              "    .colab-df-convert:hover {\n",
              "      background-color: #E2EBFA;\n",
              "      box-shadow: 0px 1px 2px rgba(60, 64, 67, 0.3), 0px 1px 3px 1px rgba(60, 64, 67, 0.15);\n",
              "      fill: #174EA6;\n",
              "    }\n",
              "\n",
              "    [theme=dark] .colab-df-convert {\n",
              "      background-color: #3B4455;\n",
              "      fill: #D2E3FC;\n",
              "    }\n",
              "\n",
              "    [theme=dark] .colab-df-convert:hover {\n",
              "      background-color: #434B5C;\n",
              "      box-shadow: 0px 1px 3px 1px rgba(0, 0, 0, 0.15);\n",
              "      filter: drop-shadow(0px 1px 2px rgba(0, 0, 0, 0.3));\n",
              "      fill: #FFFFFF;\n",
              "    }\n",
              "  </style>\n",
              "\n",
              "      <script>\n",
              "        const buttonEl =\n",
              "          document.querySelector('#df-9b528e8a-bf56-4743-9665-184ab06f3929 button.colab-df-convert');\n",
              "        buttonEl.style.display =\n",
              "          google.colab.kernel.accessAllowed ? 'block' : 'none';\n",
              "\n",
              "        async function convertToInteractive(key) {\n",
              "          const element = document.querySelector('#df-9b528e8a-bf56-4743-9665-184ab06f3929');\n",
              "          const dataTable =\n",
              "            await google.colab.kernel.invokeFunction('convertToInteractive',\n",
              "                                                     [key], {});\n",
              "          if (!dataTable) return;\n",
              "\n",
              "          const docLinkHtml = 'Like what you see? Visit the ' +\n",
              "            '<a target=\"_blank\" href=https://colab.research.google.com/notebooks/data_table.ipynb>data table notebook</a>'\n",
              "            + ' to learn more about interactive tables.';\n",
              "          element.innerHTML = '';\n",
              "          dataTable['output_type'] = 'display_data';\n",
              "          await google.colab.output.renderOutput(dataTable, element);\n",
              "          const docLink = document.createElement('div');\n",
              "          docLink.innerHTML = docLinkHtml;\n",
              "          element.appendChild(docLink);\n",
              "        }\n",
              "      </script>\n",
              "    </div>\n",
              "  </div>\n",
              "  "
            ]
          },
          "metadata": {},
          "execution_count": 62
        }
      ]
    },
    {
      "cell_type": "markdown",
      "source": [
        "Qns>4)How many influential people are talking about our product (whose followers are greater than 1000)\n"
      ],
      "metadata": {
        "id": "vhBGYb6HXeX6"
      }
    },
    {
      "cell_type": "code",
      "source": [
        "influential_people['User'].unique()\n"
      ],
      "metadata": {
        "colab": {
          "base_uri": "https://localhost:8080/"
        },
        "id": "E2R4MaWjXiuP",
        "outputId": "8243c495-f41c-4a92-b1bf-b733945f264d"
      },
      "execution_count": null,
      "outputs": [
        {
          "output_type": "execute_result",
          "data": {
            "text/plain": [
              "array(['5paisa', 'ABPNews', 'AEHarshada', 'AlArabiya_Eng',\n",
              "       'AmarUjalaNews', 'AnilSinghvi_', 'AshVerma111', 'AsianetNewsSN',\n",
              "       'BadaBusinessOff', 'BiIndia', 'Bollyhungama', 'BrandStoryboard',\n",
              "       'CNBCBajar', 'CNBCTV18Live', 'CNBCTV18News', 'CNBCYoungTurks',\n",
              "       'CNBC_Awaaz', 'Cashkarocom', 'DainikBhaskar', 'DelhiTimesTweet',\n",
              "       'ELLEINDIA', 'ETBrandEquity', 'ETHindi', 'ETMarkets', 'ETNOWlive',\n",
              "       'ETNowSwadesh', 'ETRetail', 'ET_CIO', 'ETtech', 'EarshotPodcasts',\n",
              "       'EconomicTimes', 'Ei_Samay', 'EntrepreneurIND', 'FeminaIndia',\n",
              "       'FinancialXpress', 'FortuneIndia', 'GraziaIndia', 'INDmoneyApp',\n",
              "       'Inc42', 'IndiaToday', 'JagbaniOnline', 'JagranNews',\n",
              "       'KarnatakaBank', 'LKPSECURITIES', 'MirrorNow', 'MoneycontrolH',\n",
              "       'MotilalOswalLtd', 'News18Kannada', 'Nigel__DSouza',\n",
              "       'NtvTeluguLive', 'Oneindia', 'OneindiaKannada', 'PeopleMatters2',\n",
              "       'PoddarNisha', 'RuPay_npci', 'Stockstudy8', 'StocktwitsIndia',\n",
              "       'SumitResearch', 'TV9Bharatvarsh', 'TheOfficialSBI', 'TheQuint',\n",
              "       'TheWeekLive', 'TickertapeIN', 'TimesNow', 'UCOBankOfficial',\n",
              "       'Ujjwal_Patni', 'VOGUEIndia', 'YatinMota', 'YourStoryCo',\n",
              "       'ZeeBusiness', 'ZeeNewsEnglish', '_anishaj', '_prashantnair',\n",
              "       'ambareeshbaliga', 'ani_digital', 'b50', 'blitzkreigm', 'bqprime',\n",
              "       'bsindia', 'business_today', 'businessline', 'chandrarsrikant',\n",
              "       'dna', 'editorji', 'filmfare', 'firstpost', 'htTweets',\n",
              "       'ians_india', 'indiacom', 'indiatvnews', 'kohliseetu',\n",
              "       'kotaksecurities', 'livemint', 'lokmat', 'madversity',\n",
              "       'mataonline', 'moneycontrolcom', 'news18dotcom', 'stockgro',\n",
              "       'thebetterindia', 'thehindubiz', 'ttindia', 'tv9kannada', 'upstox',\n",
              "       'vccircle'], dtype=object)"
            ]
          },
          "metadata": {},
          "execution_count": 63
        }
      ]
    },
    {
      "cell_type": "markdown",
      "source": [
        "Qns>5)Which geographical location has the most tweets\n"
      ],
      "metadata": {
        "id": "rFYNKPtjXlke"
      }
    },
    {
      "cell_type": "code",
      "source": [
        "df['Location'].value_counts()\n"
      ],
      "metadata": {
        "colab": {
          "base_uri": "https://localhost:8080/"
        },
        "id": "CPLH4ToCXV4I",
        "outputId": "7555286b-a301-44c3-fc74-f3be6dec6d53"
      },
      "execution_count": null,
      "outputs": [
        {
          "output_type": "execute_result",
          "data": {
            "text/plain": [
              "Not mentioned               996\n",
              "other                       827\n",
              "India                       811\n",
              "Mumbai, India               297\n",
              "Mumbai                      204\n",
              "New Delhi, India            200\n",
              "Bengaluru, India            105\n",
              "Noida                        96\n",
              "New Delhi                    61\n",
              "India                        46\n",
              "Hyderabad, India             34\n",
              "Delhi, India                 33\n",
              "Bangalore                    29\n",
              "india                        27\n",
              "Pune, India                  26\n",
              "Hyderabad                    26\n",
              "Chennai, India               24\n",
              "Kolkata, India               24\n",
              "Pune                         23\n",
              "Salem, Tamil Nadu, India     22\n",
              "Gurgaon, India               21\n",
              "Noida, India                 21\n",
              "Chennai                      20\n",
              "Jaipur, India                20\n",
              "Katrination                  19\n",
              "Kolkata                      18\n",
              "Pune, Maharashtra            16\n",
              "Kolkata                      15\n",
              "INDIA                        15\n",
              "CHENNAI                      14\n",
              "National Capital Region      11\n",
              "Gujarat, India               11\n",
              "Global                       11\n",
              "Name: Location, dtype: int64"
            ]
          },
          "metadata": {},
          "execution_count": 64
        }
      ]
    },
    {
      "cell_type": "markdown",
      "source": [
        "EDA\n",
        "Most of the data are not mentioned.So,Except them Mumbai has the most tweets geographical wise."
      ],
      "metadata": {
        "id": "4s9CgzYZXrz1"
      }
    },
    {
      "cell_type": "code",
      "source": [
        "import seaborn as sns\n",
        "sns.countplot(x=\"Month\", data=tweets_df).set(title='Tweet Distribute by Month')"
      ],
      "metadata": {
        "colab": {
          "base_uri": "https://localhost:8080/",
          "height": 312
        },
        "id": "_bl0phBwWPn6",
        "outputId": "e38be4e8-7a0c-42f0-9539-380d8c5fe275"
      },
      "execution_count": null,
      "outputs": [
        {
          "output_type": "execute_result",
          "data": {
            "text/plain": [
              "[Text(0.5, 1.0, 'Tweet Distribute by Month')]"
            ]
          },
          "metadata": {},
          "execution_count": 65
        },
        {
          "output_type": "display_data",
          "data": {
            "text/plain": [
              "<Figure size 432x288 with 1 Axes>"
            ],
            "image/png": "[encoded data removed]"
          },
          "metadata": {
            "needs_background": "light"
          }
        }
      ]
    },
    {
      "cell_type": "markdown",
      "source": [
        "EDA: Nov is the month of Pink friday sale"
      ],
      "metadata": {
        "id": "sXHcI54rYDf9"
      }
    },
    {
      "cell_type": "code",
      "source": [
        "tweets_df['sentiment_analysis'].value_counts()\n"
      ],
      "metadata": {
        "colab": {
          "base_uri": "https://localhost:8080/"
        },
        "id": "WtUNag69VV1b",
        "outputId": "243a99b7-456f-48c4-f92c-f9daf193afc9"
      },
      "execution_count": null,
      "outputs": [
        {
          "output_type": "execute_result",
          "data": {
            "text/plain": [
              "Neutral     2007\n",
              "Positive    1411\n",
              "Negative     705\n",
              "Name: sentiment_analysis, dtype: int64"
            ]
          },
          "metadata": {},
          "execution_count": 66
        }
      ]
    },
    {
      "cell_type": "code",
      "source": [
        "import seaborn as sns\n",
        "sns.countplot(x=\"sentiment_analysis\", data=tweets_df).set(title='Sentiment of Tweets')\n",
        "\n"
      ],
      "metadata": {
        "id": "nqKal9OUGq1C",
        "colab": {
          "base_uri": "https://localhost:8080/",
          "height": 313
        },
        "outputId": "d83955c1-b6d5-4eaf-8601-2047e9a3ec32"
      },
      "execution_count": null,
      "outputs": [
        {
          "output_type": "execute_result",
          "data": {
            "text/plain": [
              "[Text(0.5, 1.0, 'Sentiment of Tweets')]"
            ]
          },
          "metadata": {},
          "execution_count": 68
        },
        {
          "output_type": "display_data",
          "data": {
            "text/plain": [
              "<Figure size 432x288 with 1 Axes>"
            ],
            "image/png": "[encoded data removed]"
          },
          "metadata": {
            "needs_background": "light"
          }
        }
      ]
    },
    {
      "cell_type": "code",
      "source": [
        "grouped = df.groupby(by='Month')['sentiment_analysis'].value_counts()\n",
        "grouped"
      ],
      "metadata": {
        "colab": {
          "base_uri": "https://localhost:8080/"
        },
        "id": "MzG0rG2yZLc8",
        "outputId": "ce7a350c-9621-43a3-886c-865ad1a04c25"
      },
      "execution_count": null,
      "outputs": [
        {
          "output_type": "execute_result",
          "data": {
            "text/plain": [
              "Month  sentiment_analysis\n",
              "8      Neutral                200\n",
              "       Positive               150\n",
              "       Negative                93\n",
              "9      Neutral                210\n",
              "       Positive               135\n",
              "       Negative                77\n",
              "10     Neutral                546\n",
              "       Positive               399\n",
              "       Negative               185\n",
              "11     Neutral               1036\n",
              "       Positive               712\n",
              "       Negative               345\n",
              "12     Neutral                 15\n",
              "       Positive                15\n",
              "       Negative                 5\n",
              "Name: sentiment_analysis, dtype: int64"
            ]
          },
          "metadata": {},
          "execution_count": 72
        }
      ]
    },
    {
      "cell_type": "code",
      "source": [
        "unstacked = grouped.unstack(level=1)"
      ],
      "metadata": {
        "id": "6GXW3MEAZtud"
      },
      "execution_count": null,
      "outputs": []
    },
    {
      "cell_type": "code",
      "source": [
        "unstacked.plot.bar()"
      ],
      "metadata": {
        "colab": {
          "base_uri": "https://localhost:8080/",
          "height": 299
        },
        "id": "s0u-RkDuZt5N",
        "outputId": "4185772b-9fae-431e-b6e7-dc56d22526d6"
      },
      "execution_count": null,
      "outputs": [
        {
          "output_type": "execute_result",
          "data": {
            "text/plain": [
              "<matplotlib.axes._subplots.AxesSubplot at 0x7f8b98a9ecd0>"
            ]
          },
          "metadata": {},
          "execution_count": 76
        },
        {
          "output_type": "display_data",
          "data": {
            "text/plain": [
              "<Figure size 432x288 with 1 Axes>"
            ],
            "image/png": "[encoded data removed]"
          },
          "metadata": {
            "needs_background": "light"
          }
        }
      ]
    }
  ]
}