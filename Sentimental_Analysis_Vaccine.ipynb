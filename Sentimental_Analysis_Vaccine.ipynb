{
  "nbformat": 4,
  "nbformat_minor": 0,
  "metadata": {
    "colab": {
      "provenance": [],
      "authorship_tag": "ABX9TyMGbqBYw0KKzEUa6ivl5Kg2",
      "include_colab_link": true
    },
    "kernelspec": {
      "name": "python3",
      "display_name": "Python 3"
    },
    "language_info": {
      "name": "python"
    }
  },
  "cells": [
    {
      "cell_type": "markdown",
      "metadata": {
        "id": "view-in-github",
        "colab_type": "text"
      },
      "source": [
        "<a href=\"https://colab.research.google.com/github/AVasundhara/Data-Analysis-Projects/blob/Sentimental-Analysis/Sentimental_Analysis_Vaccine.ipynb\" target=\"_parent\"><img src=\"https://colab.research.google.com/assets/colab-badge.svg\" alt=\"Open In Colab\"/></a>"
      ]
    },
    {
      "cell_type": "code",
      "execution_count": null,
      "metadata": {
        "id": "yM11IMpvWJ_C"
      },
      "outputs": [],
      "source": [
        "import tweepy  # to access twitter API\n",
        "import pandas as pd  # to perform basic data operations\n",
        "import textblob # to process textual data"
      ]
    },
    {
      "cell_type": "code",
      "source": [
        "# importing the keys from twitter api\n",
        "ConsumerKey = \"nY6WrnXzlRJuTMyxfn0eZ3BQR\"\n",
        "ConsumerSecret = \"AWaoEfHCOZ0YIcsnCe8IZPA8wbtpQY12FSm4jz1SqwxtuSnjOs\"\n",
        "AccessToken = \"1591657874433851393-xpyxxdQvf8VsYqP7J1wKI60oOrpH7e\"\n",
        "AccessTokenSecret = \"KSCpPqGWvdVkHiN2myx7uUAtaZHYutfUY0lLowYiw3dPS\"\n"
      ],
      "metadata": {
        "id": "mudLDxnzYj42"
      },
      "execution_count": null,
      "outputs": []
    },
    {
      "cell_type": "code",
      "source": [
        "# establish the connection with twitter API\n",
        "auth =tweepy.OAuthHandler(ConsumerKey, ConsumerSecret)\n",
        "auth.set_access_token(AccessToken, AccessTokenSecret)\n",
        "# wait_on_rate_limit=True,wait_on_rate_limit_notify=True <- helps to avoid 429 error\n",
        "api = tweepy.API(auth, wait_on_rate_limit=True,wait_on_rate_limit_notify=True)"
      ],
      "metadata": {
        "id": "bzq0OgNPZCpq"
      },
      "execution_count": null,
      "outputs": []
    },
    {
      "cell_type": "code",
      "source": [
        "1# search for term and define number of tweets\n",
        "SearchTerm = input(\"Enter Keyword/Tag to search about:\")\n",
        "NoOfTerms = int(input(\"Enter how may tweets to search:\"))"
      ],
      "metadata": {
        "colab": {
          "base_uri": "https://localhost:8080/"
        },
        "id": "0TA6uQdeZ4Ec",
        "outputId": "e0d3b954-0f16-4297-98e5-213e1d1c3781"
      },
      "execution_count": null,
      "outputs": [
        {
          "name": "stdout",
          "output_type": "stream",
          "text": [
            "Enter Keyword/Tag to search about:vaccine\n",
            "Enter how may tweets to search:2000\n"
          ]
        }
      ]
    },
    {
      "cell_type": "code",
      "source": [
        "# get no of tweets and searched term together\n",
        "# create the cursor object\n",
        "tweets = tweepy.Cursor(api.search, q = SearchTerm, lang = 'en',since = '2019-01-01',tweet_mode = 'extended').items(NoOfTerms)"
      ],
      "metadata": {
        "id": "6FVGBiu4bGyy"
      },
      "execution_count": null,
      "outputs": []
    },
    {
      "cell_type": "code",
      "source": [
        "import re\n",
        "import numpy as np\n",
        "import seaborn as sns\n",
        "import matplotlib.pyplot as plt\n",
        "from matplotlib import style\n",
        "plt.style.use('fivethirtyeight')\n",
        "from textblob import TextBlob\n",
        "import nltk"
      ],
      "metadata": {
        "id": "-j5u0XOVe42z"
      },
      "execution_count": null,
      "outputs": []
    },
    {
      "cell_type": "code",
      "source": [
        "# store the tweets in a variable and get the full text\n",
        "all_tweets = [tweet.full_text for tweet in tweets]  "
      ],
      "metadata": {
        "colab": {
          "base_uri": "https://localhost:8080/"
        },
        "id": "hV-HcTs5j_p0",
        "outputId": "8cbc37d9-528e-49e3-9e0c-1c8ad1fc219a"
      },
      "execution_count": null,
      "outputs": [
        {
          "output_type": "stream",
          "name": "stderr",
          "text": [
            "WARNING:tweepy.binder:Rate limit reached. Sleeping for: 610\n"
          ]
        }
      ]
    },
    {
      "cell_type": "code",
      "source": [
        "# create a dataframe to store the tweets with a column name tweets\n",
        "df = pd.DataFrame(all_tweets, columns = ['Tweets'])\n",
        "# show the 1st 5 rows of data\n",
        "df.head(5)"
      ],
      "metadata": {
        "colab": {
          "base_uri": "https://localhost:8080/",
          "height": 206
        },
        "id": "uPSDVPoDuEVM",
        "outputId": "9587f07f-97df-476f-87cc-83d352689fb2"
      },
      "execution_count": null,
      "outputs": [
        {
          "output_type": "execute_result",
          "data": {
            "text/plain": [
              "                                              Tweets\n",
              "0  RT @saletan: On MTP, Fauci says uptake of the ...\n",
              "1  RT @laralogan: It’s not a vaccine when it’s ki...\n",
              "2  RT @laralogan: It’s not a vaccine when it’s ki...\n",
              "3  RT @JamesMelville: For 2 years, media outlets ...\n",
              "4  @stassiaromo You have no idea. The Covid vacci..."
            ],
            "text/html": [
              "\n",
              "  <div id=\"df-3455b570-ac25-40d9-aea5-0faa3a52da42\">\n",
              "    <div class=\"colab-df-container\">\n",
              "      <div>\n",
              "<style scoped>\n",
              "    .dataframe tbody tr th:only-of-type {\n",
              "        vertical-align: middle;\n",
              "    }\n",
              "\n",
              "    .dataframe tbody tr th {\n",
              "        vertical-align: top;\n",
              "    }\n",
              "\n",
              "    .dataframe thead th {\n",
              "        text-align: right;\n",
              "    }\n",
              "</style>\n",
              "<table border=\"1\" class=\"dataframe\">\n",
              "  <thead>\n",
              "    <tr style=\"text-align: right;\">\n",
              "      <th></th>\n",
              "      <th>Tweets</th>\n",
              "    </tr>\n",
              "  </thead>\n",
              "  <tbody>\n",
              "    <tr>\n",
              "      <th>0</th>\n",
              "      <td>RT @saletan: On MTP, Fauci says uptake of the ...</td>\n",
              "    </tr>\n",
              "    <tr>\n",
              "      <th>1</th>\n",
              "      <td>RT @laralogan: It’s not a vaccine when it’s ki...</td>\n",
              "    </tr>\n",
              "    <tr>\n",
              "      <th>2</th>\n",
              "      <td>RT @laralogan: It’s not a vaccine when it’s ki...</td>\n",
              "    </tr>\n",
              "    <tr>\n",
              "      <th>3</th>\n",
              "      <td>RT @JamesMelville: For 2 years, media outlets ...</td>\n",
              "    </tr>\n",
              "    <tr>\n",
              "      <th>4</th>\n",
              "      <td>@stassiaromo You have no idea. The Covid vacci...</td>\n",
              "    </tr>\n",
              "  </tbody>\n",
              "</table>\n",
              "</div>\n",
              "      <button class=\"colab-df-convert\" onclick=\"convertToInteractive('df-3455b570-ac25-40d9-aea5-0faa3a52da42')\"\n",
              "              title=\"Convert this dataframe to an interactive table.\"\n",
              "              style=\"display:none;\">\n",
              "        \n",
              "  <svg xmlns=\"http://www.w3.org/2000/svg\" height=\"24px\"viewBox=\"0 0 24 24\"\n",
              "       width=\"24px\">\n",
              "    <path d=\"M0 0h24v24H0V0z\" fill=\"none\"/>\n",
              "    <path d=\"M18.56 5.44l.94 2.06.94-2.06 2.06-.94-2.06-.94-.94-2.06-.94 2.06-2.06.94zm-11 1L8.5 8.5l.94-2.06 2.06-.94-2.06-.94L8.5 2.5l-.94 2.06-2.06.94zm10 10l.94 2.06.94-2.06 2.06-.94-2.06-.94-.94-2.06-.94 2.06-2.06.94z\"/><path d=\"M17.41 7.96l-1.37-1.37c-.4-.4-.92-.59-1.43-.59-.52 0-1.04.2-1.43.59L10.3 9.45l-7.72 7.72c-.78.78-.78 2.05 0 2.83L4 21.41c.39.39.9.59 1.41.59.51 0 1.02-.2 1.41-.59l7.78-7.78 2.81-2.81c.8-.78.8-2.07 0-2.86zM5.41 20L4 18.59l7.72-7.72 1.47 1.35L5.41 20z\"/>\n",
              "  </svg>\n",
              "      </button>\n",
              "      \n",
              "  <style>\n",
              "    .colab-df-container {\n",
              "      display:flex;\n",
              "      flex-wrap:wrap;\n",
              "      gap: 12px;\n",
              "    }\n",
              "\n",
              "    .colab-df-convert {\n",
              "      background-color: #E8F0FE;\n",
              "      border: none;\n",
              "      border-radius: 50%;\n",
              "      cursor: pointer;\n",
              "      display: none;\n",
              "      fill: #1967D2;\n",
              "      height: 32px;\n",
              "      padding: 0 0 0 0;\n",
              "      width: 32px;\n",
              "    }\n",
              "\n",
              "    .colab-df-convert:hover {\n",
              "      background-color: #E2EBFA;\n",
              "      box-shadow: 0px 1px 2px rgba(60, 64, 67, 0.3), 0px 1px 3px 1px rgba(60, 64, 67, 0.15);\n",
              "      fill: #174EA6;\n",
              "    }\n",
              "\n",
              "    [theme=dark] .colab-df-convert {\n",
              "      background-color: #3B4455;\n",
              "      fill: #D2E3FC;\n",
              "    }\n",
              "\n",
              "    [theme=dark] .colab-df-convert:hover {\n",
              "      background-color: #434B5C;\n",
              "      box-shadow: 0px 1px 3px 1px rgba(0, 0, 0, 0.15);\n",
              "      filter: drop-shadow(0px 1px 2px rgba(0, 0, 0, 0.3));\n",
              "      fill: #FFFFFF;\n",
              "    }\n",
              "  </style>\n",
              "\n",
              "      <script>\n",
              "        const buttonEl =\n",
              "          document.querySelector('#df-3455b570-ac25-40d9-aea5-0faa3a52da42 button.colab-df-convert');\n",
              "        buttonEl.style.display =\n",
              "          google.colab.kernel.accessAllowed ? 'block' : 'none';\n",
              "\n",
              "        async function convertToInteractive(key) {\n",
              "          const element = document.querySelector('#df-3455b570-ac25-40d9-aea5-0faa3a52da42');\n",
              "          const dataTable =\n",
              "            await google.colab.kernel.invokeFunction('convertToInteractive',\n",
              "                                                     [key], {});\n",
              "          if (!dataTable) return;\n",
              "\n",
              "          const docLinkHtml = 'Like what you see? Visit the ' +\n",
              "            '<a target=\"_blank\" href=https://colab.research.google.com/notebooks/data_table.ipynb>data table notebook</a>'\n",
              "            + ' to learn more about interactive tables.';\n",
              "          element.innerHTML = '';\n",
              "          dataTable['output_type'] = 'display_data';\n",
              "          await google.colab.output.renderOutput(dataTable, element);\n",
              "          const docLink = document.createElement('div');\n",
              "          docLink.innerHTML = docLinkHtml;\n",
              "          element.appendChild(docLink);\n",
              "        }\n",
              "      </script>\n",
              "    </div>\n",
              "  </div>\n",
              "  "
            ]
          },
          "metadata": {},
          "execution_count": 47
        }
      ]
    },
    {
      "cell_type": "code",
      "source": [
        "# create a function to clean the data\n",
        "def cleanTwt (twt):\n",
        "  twt = re.sub('#vaccine','vaccine',twt) # remove the '#' from #vaccine\n",
        "  twt = re.sub('#Vaccine','Vaccine',twt) # remove the '#' from #Vaccine\n",
        "  twt = re.sub('#[A-Za-z0-9]','',twt) # remove any string with #\n",
        "  twt = re.sub('\\\\n','',twt) # remove the '\\n' string\n",
        "  twt = re.sub('https?:\\/\\/\\s+','',twt) # remove any hyperlinks\n",
        "  return twt\n"
      ],
      "metadata": {
        "id": "MDREcTxbu2yJ"
      },
      "execution_count": null,
      "outputs": []
    },
    {
      "cell_type": "code",
      "source": [
        "# clean the data\n",
        "df['Cleaned_Tweets'] = df['Tweets'].apply(cleanTwt)\n",
        "# show the data set\n",
        "df.tail(10)"
      ],
      "metadata": {
        "colab": {
          "base_uri": "https://localhost:8080/",
          "height": 363
        },
        "id": "NnWS9079xxyV",
        "outputId": "56158dc4-574c-4e5a-a600-2b58f8b777e7"
      },
      "execution_count": null,
      "outputs": [
        {
          "output_type": "execute_result",
          "data": {
            "text/plain": [
              "                                                 Tweets  \\\n",
              "1990  RT @JamesMelville: For 2 years, media outlets ...   \n",
              "1991  @_Janey_J Conspiracy crimes all over #vaccine ...   \n",
              "1992  RT @GSK: Meningitis awareness and vaccine inno...   \n",
              "1993  RT @BharatBiotech: iNCOVACC, World's first int...   \n",
              "1994  @lexiusaequitas @annemadiso @bhaney2 @amiwoods...   \n",
              "1995  RT @timesofindia: Bharat Biotech's intranasal ...   \n",
              "1996  @Veger70 @WhiteHouse In spite of, not because ...   \n",
              "1997  RT @drsimonegold: According to a recent study ...   \n",
              "1998  RT @drsimonegold: According to a recent study ...   \n",
              "1999  @d_s_thakur @das_seed I am too old to remember...   \n",
              "\n",
              "                                         Cleaned_Tweets  \n",
              "1990  RT @JamesMelville: For 2 years, media outlets ...  \n",
              "1991  @_Janey_J Conspiracy crimes all over vaccine F...  \n",
              "1992  RT @GSK: Meningitis awareness and vaccine inno...  \n",
              "1993  RT @BharatBiotech: iNCOVACC, World's first int...  \n",
              "1994  @lexiusaequitas @annemadiso @bhaney2 @amiwoods...  \n",
              "1995  RT @timesofindia: Bharat Biotech's intranasal ...  \n",
              "1996  @Veger70 @WhiteHouse In spite of, not because ...  \n",
              "1997  RT @drsimonegold: According to a recent study ...  \n",
              "1998  RT @drsimonegold: According to a recent study ...  \n",
              "1999  @d_s_thakur @das_seed I am too old to remember...  "
            ],
            "text/html": [
              "\n",
              "  <div id=\"df-a6b6d986-50dc-4164-a3c8-254aec4fbfac\">\n",
              "    <div class=\"colab-df-container\">\n",
              "      <div>\n",
              "<style scoped>\n",
              "    .dataframe tbody tr th:only-of-type {\n",
              "        vertical-align: middle;\n",
              "    }\n",
              "\n",
              "    .dataframe tbody tr th {\n",
              "        vertical-align: top;\n",
              "    }\n",
              "\n",
              "    .dataframe thead th {\n",
              "        text-align: right;\n",
              "    }\n",
              "</style>\n",
              "<table border=\"1\" class=\"dataframe\">\n",
              "  <thead>\n",
              "    <tr style=\"text-align: right;\">\n",
              "      <th></th>\n",
              "      <th>Tweets</th>\n",
              "      <th>Cleaned_Tweets</th>\n",
              "    </tr>\n",
              "  </thead>\n",
              "  <tbody>\n",
              "    <tr>\n",
              "      <th>1990</th>\n",
              "      <td>RT @JamesMelville: For 2 years, media outlets ...</td>\n",
              "      <td>RT @JamesMelville: For 2 years, media outlets ...</td>\n",
              "    </tr>\n",
              "    <tr>\n",
              "      <th>1991</th>\n",
              "      <td>@_Janey_J Conspiracy crimes all over #vaccine ...</td>\n",
              "      <td>@_Janey_J Conspiracy crimes all over vaccine F...</td>\n",
              "    </tr>\n",
              "    <tr>\n",
              "      <th>1992</th>\n",
              "      <td>RT @GSK: Meningitis awareness and vaccine inno...</td>\n",
              "      <td>RT @GSK: Meningitis awareness and vaccine inno...</td>\n",
              "    </tr>\n",
              "    <tr>\n",
              "      <th>1993</th>\n",
              "      <td>RT @BharatBiotech: iNCOVACC, World's first int...</td>\n",
              "      <td>RT @BharatBiotech: iNCOVACC, World's first int...</td>\n",
              "    </tr>\n",
              "    <tr>\n",
              "      <th>1994</th>\n",
              "      <td>@lexiusaequitas @annemadiso @bhaney2 @amiwoods...</td>\n",
              "      <td>@lexiusaequitas @annemadiso @bhaney2 @amiwoods...</td>\n",
              "    </tr>\n",
              "    <tr>\n",
              "      <th>1995</th>\n",
              "      <td>RT @timesofindia: Bharat Biotech's intranasal ...</td>\n",
              "      <td>RT @timesofindia: Bharat Biotech's intranasal ...</td>\n",
              "    </tr>\n",
              "    <tr>\n",
              "      <th>1996</th>\n",
              "      <td>@Veger70 @WhiteHouse In spite of, not because ...</td>\n",
              "      <td>@Veger70 @WhiteHouse In spite of, not because ...</td>\n",
              "    </tr>\n",
              "    <tr>\n",
              "      <th>1997</th>\n",
              "      <td>RT @drsimonegold: According to a recent study ...</td>\n",
              "      <td>RT @drsimonegold: According to a recent study ...</td>\n",
              "    </tr>\n",
              "    <tr>\n",
              "      <th>1998</th>\n",
              "      <td>RT @drsimonegold: According to a recent study ...</td>\n",
              "      <td>RT @drsimonegold: According to a recent study ...</td>\n",
              "    </tr>\n",
              "    <tr>\n",
              "      <th>1999</th>\n",
              "      <td>@d_s_thakur @das_seed I am too old to remember...</td>\n",
              "      <td>@d_s_thakur @das_seed I am too old to remember...</td>\n",
              "    </tr>\n",
              "  </tbody>\n",
              "</table>\n",
              "</div>\n",
              "      <button class=\"colab-df-convert\" onclick=\"convertToInteractive('df-a6b6d986-50dc-4164-a3c8-254aec4fbfac')\"\n",
              "              title=\"Convert this dataframe to an interactive table.\"\n",
              "              style=\"display:none;\">\n",
              "        \n",
              "  <svg xmlns=\"http://www.w3.org/2000/svg\" height=\"24px\"viewBox=\"0 0 24 24\"\n",
              "       width=\"24px\">\n",
              "    <path d=\"M0 0h24v24H0V0z\" fill=\"none\"/>\n",
              "    <path d=\"M18.56 5.44l.94 2.06.94-2.06 2.06-.94-2.06-.94-.94-2.06-.94 2.06-2.06.94zm-11 1L8.5 8.5l.94-2.06 2.06-.94-2.06-.94L8.5 2.5l-.94 2.06-2.06.94zm10 10l.94 2.06.94-2.06 2.06-.94-2.06-.94-.94-2.06-.94 2.06-2.06.94z\"/><path d=\"M17.41 7.96l-1.37-1.37c-.4-.4-.92-.59-1.43-.59-.52 0-1.04.2-1.43.59L10.3 9.45l-7.72 7.72c-.78.78-.78 2.05 0 2.83L4 21.41c.39.39.9.59 1.41.59.51 0 1.02-.2 1.41-.59l7.78-7.78 2.81-2.81c.8-.78.8-2.07 0-2.86zM5.41 20L4 18.59l7.72-7.72 1.47 1.35L5.41 20z\"/>\n",
              "  </svg>\n",
              "      </button>\n",
              "      \n",
              "  <style>\n",
              "    .colab-df-container {\n",
              "      display:flex;\n",
              "      flex-wrap:wrap;\n",
              "      gap: 12px;\n",
              "    }\n",
              "\n",
              "    .colab-df-convert {\n",
              "      background-color: #E8F0FE;\n",
              "      border: none;\n",
              "      border-radius: 50%;\n",
              "      cursor: pointer;\n",
              "      display: none;\n",
              "      fill: #1967D2;\n",
              "      height: 32px;\n",
              "      padding: 0 0 0 0;\n",
              "      width: 32px;\n",
              "    }\n",
              "\n",
              "    .colab-df-convert:hover {\n",
              "      background-color: #E2EBFA;\n",
              "      box-shadow: 0px 1px 2px rgba(60, 64, 67, 0.3), 0px 1px 3px 1px rgba(60, 64, 67, 0.15);\n",
              "      fill: #174EA6;\n",
              "    }\n",
              "\n",
              "    [theme=dark] .colab-df-convert {\n",
              "      background-color: #3B4455;\n",
              "      fill: #D2E3FC;\n",
              "    }\n",
              "\n",
              "    [theme=dark] .colab-df-convert:hover {\n",
              "      background-color: #434B5C;\n",
              "      box-shadow: 0px 1px 3px 1px rgba(0, 0, 0, 0.15);\n",
              "      filter: drop-shadow(0px 1px 2px rgba(0, 0, 0, 0.3));\n",
              "      fill: #FFFFFF;\n",
              "    }\n",
              "  </style>\n",
              "\n",
              "      <script>\n",
              "        const buttonEl =\n",
              "          document.querySelector('#df-a6b6d986-50dc-4164-a3c8-254aec4fbfac button.colab-df-convert');\n",
              "        buttonEl.style.display =\n",
              "          google.colab.kernel.accessAllowed ? 'block' : 'none';\n",
              "\n",
              "        async function convertToInteractive(key) {\n",
              "          const element = document.querySelector('#df-a6b6d986-50dc-4164-a3c8-254aec4fbfac');\n",
              "          const dataTable =\n",
              "            await google.colab.kernel.invokeFunction('convertToInteractive',\n",
              "                                                     [key], {});\n",
              "          if (!dataTable) return;\n",
              "\n",
              "          const docLinkHtml = 'Like what you see? Visit the ' +\n",
              "            '<a target=\"_blank\" href=https://colab.research.google.com/notebooks/data_table.ipynb>data table notebook</a>'\n",
              "            + ' to learn more about interactive tables.';\n",
              "          element.innerHTML = '';\n",
              "          dataTable['output_type'] = 'display_data';\n",
              "          await google.colab.output.renderOutput(dataTable, element);\n",
              "          const docLink = document.createElement('div');\n",
              "          docLink.innerHTML = docLinkHtml;\n",
              "          element.appendChild(docLink);\n",
              "        }\n",
              "      </script>\n",
              "    </div>\n",
              "  </div>\n",
              "  "
            ]
          },
          "metadata": {},
          "execution_count": 54
        }
      ]
    },
    {
      "cell_type": "code",
      "source": [
        "# create a function to get the subjectivity\n",
        "def getSubjectivity(twt):\n",
        "  return TextBlob(twt).sentiment.subjectivity\n",
        "# create a function to get the polarity\n",
        "def getPolarity(twt):\n",
        "  return TextBlob(twt).sentiment.polarity\n",
        "\n",
        "# create two new columns called 'subjectivity' and 'polarity'\n",
        "df['Subjectivity'] = df['Cleaned_Tweets'].apply(getSubjectivity)\n",
        "df['Polarity'] = df['Cleaned_Tweets'].apply(getPolarity)\n",
        "\n",
        "# show data\n",
        "df.head()"
      ],
      "metadata": {
        "colab": {
          "base_uri": "https://localhost:8080/",
          "height": 206
        },
        "id": "zh-sJAhH0SsB",
        "outputId": "02448679-043c-4a13-f0b9-66d100d4533d"
      },
      "execution_count": null,
      "outputs": [
        {
          "output_type": "execute_result",
          "data": {
            "text/plain": [
              "                                              Tweets  \\\n",
              "0  RT @saletan: On MTP, Fauci says uptake of the ...   \n",
              "1  RT @laralogan: It’s not a vaccine when it’s ki...   \n",
              "2  RT @laralogan: It’s not a vaccine when it’s ki...   \n",
              "3  RT @JamesMelville: For 2 years, media outlets ...   \n",
              "4  @stassiaromo You have no idea. The Covid vacci...   \n",
              "\n",
              "                                      Cleaned_Tweets  Subjectivity  Polarity  \n",
              "0  RT @saletan: On MTP, Fauci says uptake of the ...      0.427273  0.118182  \n",
              "1  RT @laralogan: It’s not a vaccine when it’s ki...      0.475000 -0.325000  \n",
              "2  RT @laralogan: It’s not a vaccine when it’s ki...      0.475000 -0.325000  \n",
              "3  RT @JamesMelville: For 2 years, media outlets ...      0.400000  0.100000  \n",
              "4  @stassiaromo You have no idea. The Covid vacci...      0.300000  0.068182  "
            ],
            "text/html": [
              "\n",
              "  <div id=\"df-14619272-2c5b-441d-a080-397bcee5e76d\">\n",
              "    <div class=\"colab-df-container\">\n",
              "      <div>\n",
              "<style scoped>\n",
              "    .dataframe tbody tr th:only-of-type {\n",
              "        vertical-align: middle;\n",
              "    }\n",
              "\n",
              "    .dataframe tbody tr th {\n",
              "        vertical-align: top;\n",
              "    }\n",
              "\n",
              "    .dataframe thead th {\n",
              "        text-align: right;\n",
              "    }\n",
              "</style>\n",
              "<table border=\"1\" class=\"dataframe\">\n",
              "  <thead>\n",
              "    <tr style=\"text-align: right;\">\n",
              "      <th></th>\n",
              "      <th>Tweets</th>\n",
              "      <th>Cleaned_Tweets</th>\n",
              "      <th>Subjectivity</th>\n",
              "      <th>Polarity</th>\n",
              "    </tr>\n",
              "  </thead>\n",
              "  <tbody>\n",
              "    <tr>\n",
              "      <th>0</th>\n",
              "      <td>RT @saletan: On MTP, Fauci says uptake of the ...</td>\n",
              "      <td>RT @saletan: On MTP, Fauci says uptake of the ...</td>\n",
              "      <td>0.427273</td>\n",
              "      <td>0.118182</td>\n",
              "    </tr>\n",
              "    <tr>\n",
              "      <th>1</th>\n",
              "      <td>RT @laralogan: It’s not a vaccine when it’s ki...</td>\n",
              "      <td>RT @laralogan: It’s not a vaccine when it’s ki...</td>\n",
              "      <td>0.475000</td>\n",
              "      <td>-0.325000</td>\n",
              "    </tr>\n",
              "    <tr>\n",
              "      <th>2</th>\n",
              "      <td>RT @laralogan: It’s not a vaccine when it’s ki...</td>\n",
              "      <td>RT @laralogan: It’s not a vaccine when it’s ki...</td>\n",
              "      <td>0.475000</td>\n",
              "      <td>-0.325000</td>\n",
              "    </tr>\n",
              "    <tr>\n",
              "      <th>3</th>\n",
              "      <td>RT @JamesMelville: For 2 years, media outlets ...</td>\n",
              "      <td>RT @JamesMelville: For 2 years, media outlets ...</td>\n",
              "      <td>0.400000</td>\n",
              "      <td>0.100000</td>\n",
              "    </tr>\n",
              "    <tr>\n",
              "      <th>4</th>\n",
              "      <td>@stassiaromo You have no idea. The Covid vacci...</td>\n",
              "      <td>@stassiaromo You have no idea. The Covid vacci...</td>\n",
              "      <td>0.300000</td>\n",
              "      <td>0.068182</td>\n",
              "    </tr>\n",
              "  </tbody>\n",
              "</table>\n",
              "</div>\n",
              "      <button class=\"colab-df-convert\" onclick=\"convertToInteractive('df-14619272-2c5b-441d-a080-397bcee5e76d')\"\n",
              "              title=\"Convert this dataframe to an interactive table.\"\n",
              "              style=\"display:none;\">\n",
              "        \n",
              "  <svg xmlns=\"http://www.w3.org/2000/svg\" height=\"24px\"viewBox=\"0 0 24 24\"\n",
              "       width=\"24px\">\n",
              "    <path d=\"M0 0h24v24H0V0z\" fill=\"none\"/>\n",
              "    <path d=\"M18.56 5.44l.94 2.06.94-2.06 2.06-.94-2.06-.94-.94-2.06-.94 2.06-2.06.94zm-11 1L8.5 8.5l.94-2.06 2.06-.94-2.06-.94L8.5 2.5l-.94 2.06-2.06.94zm10 10l.94 2.06.94-2.06 2.06-.94-2.06-.94-.94-2.06-.94 2.06-2.06.94z\"/><path d=\"M17.41 7.96l-1.37-1.37c-.4-.4-.92-.59-1.43-.59-.52 0-1.04.2-1.43.59L10.3 9.45l-7.72 7.72c-.78.78-.78 2.05 0 2.83L4 21.41c.39.39.9.59 1.41.59.51 0 1.02-.2 1.41-.59l7.78-7.78 2.81-2.81c.8-.78.8-2.07 0-2.86zM5.41 20L4 18.59l7.72-7.72 1.47 1.35L5.41 20z\"/>\n",
              "  </svg>\n",
              "      </button>\n",
              "      \n",
              "  <style>\n",
              "    .colab-df-container {\n",
              "      display:flex;\n",
              "      flex-wrap:wrap;\n",
              "      gap: 12px;\n",
              "    }\n",
              "\n",
              "    .colab-df-convert {\n",
              "      background-color: #E8F0FE;\n",
              "      border: none;\n",
              "      border-radius: 50%;\n",
              "      cursor: pointer;\n",
              "      display: none;\n",
              "      fill: #1967D2;\n",
              "      height: 32px;\n",
              "      padding: 0 0 0 0;\n",
              "      width: 32px;\n",
              "    }\n",
              "\n",
              "    .colab-df-convert:hover {\n",
              "      background-color: #E2EBFA;\n",
              "      box-shadow: 0px 1px 2px rgba(60, 64, 67, 0.3), 0px 1px 3px 1px rgba(60, 64, 67, 0.15);\n",
              "      fill: #174EA6;\n",
              "    }\n",
              "\n",
              "    [theme=dark] .colab-df-convert {\n",
              "      background-color: #3B4455;\n",
              "      fill: #D2E3FC;\n",
              "    }\n",
              "\n",
              "    [theme=dark] .colab-df-convert:hover {\n",
              "      background-color: #434B5C;\n",
              "      box-shadow: 0px 1px 3px 1px rgba(0, 0, 0, 0.15);\n",
              "      filter: drop-shadow(0px 1px 2px rgba(0, 0, 0, 0.3));\n",
              "      fill: #FFFFFF;\n",
              "    }\n",
              "  </style>\n",
              "\n",
              "      <script>\n",
              "        const buttonEl =\n",
              "          document.querySelector('#df-14619272-2c5b-441d-a080-397bcee5e76d button.colab-df-convert');\n",
              "        buttonEl.style.display =\n",
              "          google.colab.kernel.accessAllowed ? 'block' : 'none';\n",
              "\n",
              "        async function convertToInteractive(key) {\n",
              "          const element = document.querySelector('#df-14619272-2c5b-441d-a080-397bcee5e76d');\n",
              "          const dataTable =\n",
              "            await google.colab.kernel.invokeFunction('convertToInteractive',\n",
              "                                                     [key], {});\n",
              "          if (!dataTable) return;\n",
              "\n",
              "          const docLinkHtml = 'Like what you see? Visit the ' +\n",
              "            '<a target=\"_blank\" href=https://colab.research.google.com/notebooks/data_table.ipynb>data table notebook</a>'\n",
              "            + ' to learn more about interactive tables.';\n",
              "          element.innerHTML = '';\n",
              "          dataTable['output_type'] = 'display_data';\n",
              "          await google.colab.output.renderOutput(dataTable, element);\n",
              "          const docLink = document.createElement('div');\n",
              "          docLink.innerHTML = docLinkHtml;\n",
              "          element.appendChild(docLink);\n",
              "        }\n",
              "      </script>\n",
              "    </div>\n",
              "  </div>\n",
              "  "
            ]
          },
          "metadata": {},
          "execution_count": 57
        }
      ]
    },
    {
      "cell_type": "code",
      "source": [
        "# create a function to get the text sentimental \n",
        "def getSentimental(score):\n",
        "  if score<0:\n",
        "    return 'Negative'\n",
        "  elif score== 0:\n",
        "    return 'Neutral'\n",
        "  else:\n",
        "    return 'Positive'\n",
        "\n",
        "# create a col for text setimental\n",
        "df['Sentiment'] = df['Polarity'].apply(getSentimental)\n",
        "\n",
        "# show data\n",
        "df.head()\n"
      ],
      "metadata": {
        "colab": {
          "base_uri": "https://localhost:8080/",
          "height": 206
        },
        "id": "sYFI3NRP2l57",
        "outputId": "e166e417-54c2-41a5-9198-931ae1274f85"
      },
      "execution_count": null,
      "outputs": [
        {
          "output_type": "execute_result",
          "data": {
            "text/plain": [
              "                                              Tweets  \\\n",
              "0  RT @saletan: On MTP, Fauci says uptake of the ...   \n",
              "1  RT @laralogan: It’s not a vaccine when it’s ki...   \n",
              "2  RT @laralogan: It’s not a vaccine when it’s ki...   \n",
              "3  RT @JamesMelville: For 2 years, media outlets ...   \n",
              "4  @stassiaromo You have no idea. The Covid vacci...   \n",
              "\n",
              "                                      Cleaned_Tweets  Subjectivity  Polarity  \\\n",
              "0  RT @saletan: On MTP, Fauci says uptake of the ...      0.427273  0.118182   \n",
              "1  RT @laralogan: It’s not a vaccine when it’s ki...      0.475000 -0.325000   \n",
              "2  RT @laralogan: It’s not a vaccine when it’s ki...      0.475000 -0.325000   \n",
              "3  RT @JamesMelville: For 2 years, media outlets ...      0.400000  0.100000   \n",
              "4  @stassiaromo You have no idea. The Covid vacci...      0.300000  0.068182   \n",
              "\n",
              "  Sentiment  \n",
              "0  Positive  \n",
              "1  Negative  \n",
              "2  Negative  \n",
              "3  Positive  \n",
              "4  Positive  "
            ],
            "text/html": [
              "\n",
              "  <div id=\"df-d42f7ebc-9c39-457b-ac4c-be1dde86309c\">\n",
              "    <div class=\"colab-df-container\">\n",
              "      <div>\n",
              "<style scoped>\n",
              "    .dataframe tbody tr th:only-of-type {\n",
              "        vertical-align: middle;\n",
              "    }\n",
              "\n",
              "    .dataframe tbody tr th {\n",
              "        vertical-align: top;\n",
              "    }\n",
              "\n",
              "    .dataframe thead th {\n",
              "        text-align: right;\n",
              "    }\n",
              "</style>\n",
              "<table border=\"1\" class=\"dataframe\">\n",
              "  <thead>\n",
              "    <tr style=\"text-align: right;\">\n",
              "      <th></th>\n",
              "      <th>Tweets</th>\n",
              "      <th>Cleaned_Tweets</th>\n",
              "      <th>Subjectivity</th>\n",
              "      <th>Polarity</th>\n",
              "      <th>Sentiment</th>\n",
              "    </tr>\n",
              "  </thead>\n",
              "  <tbody>\n",
              "    <tr>\n",
              "      <th>0</th>\n",
              "      <td>RT @saletan: On MTP, Fauci says uptake of the ...</td>\n",
              "      <td>RT @saletan: On MTP, Fauci says uptake of the ...</td>\n",
              "      <td>0.427273</td>\n",
              "      <td>0.118182</td>\n",
              "      <td>Positive</td>\n",
              "    </tr>\n",
              "    <tr>\n",
              "      <th>1</th>\n",
              "      <td>RT @laralogan: It’s not a vaccine when it’s ki...</td>\n",
              "      <td>RT @laralogan: It’s not a vaccine when it’s ki...</td>\n",
              "      <td>0.475000</td>\n",
              "      <td>-0.325000</td>\n",
              "      <td>Negative</td>\n",
              "    </tr>\n",
              "    <tr>\n",
              "      <th>2</th>\n",
              "      <td>RT @laralogan: It’s not a vaccine when it’s ki...</td>\n",
              "      <td>RT @laralogan: It’s not a vaccine when it’s ki...</td>\n",
              "      <td>0.475000</td>\n",
              "      <td>-0.325000</td>\n",
              "      <td>Negative</td>\n",
              "    </tr>\n",
              "    <tr>\n",
              "      <th>3</th>\n",
              "      <td>RT @JamesMelville: For 2 years, media outlets ...</td>\n",
              "      <td>RT @JamesMelville: For 2 years, media outlets ...</td>\n",
              "      <td>0.400000</td>\n",
              "      <td>0.100000</td>\n",
              "      <td>Positive</td>\n",
              "    </tr>\n",
              "    <tr>\n",
              "      <th>4</th>\n",
              "      <td>@stassiaromo You have no idea. The Covid vacci...</td>\n",
              "      <td>@stassiaromo You have no idea. The Covid vacci...</td>\n",
              "      <td>0.300000</td>\n",
              "      <td>0.068182</td>\n",
              "      <td>Positive</td>\n",
              "    </tr>\n",
              "  </tbody>\n",
              "</table>\n",
              "</div>\n",
              "      <button class=\"colab-df-convert\" onclick=\"convertToInteractive('df-d42f7ebc-9c39-457b-ac4c-be1dde86309c')\"\n",
              "              title=\"Convert this dataframe to an interactive table.\"\n",
              "              style=\"display:none;\">\n",
              "        \n",
              "  <svg xmlns=\"http://www.w3.org/2000/svg\" height=\"24px\"viewBox=\"0 0 24 24\"\n",
              "       width=\"24px\">\n",
              "    <path d=\"M0 0h24v24H0V0z\" fill=\"none\"/>\n",
              "    <path d=\"M18.56 5.44l.94 2.06.94-2.06 2.06-.94-2.06-.94-.94-2.06-.94 2.06-2.06.94zm-11 1L8.5 8.5l.94-2.06 2.06-.94-2.06-.94L8.5 2.5l-.94 2.06-2.06.94zm10 10l.94 2.06.94-2.06 2.06-.94-2.06-.94-.94-2.06-.94 2.06-2.06.94z\"/><path d=\"M17.41 7.96l-1.37-1.37c-.4-.4-.92-.59-1.43-.59-.52 0-1.04.2-1.43.59L10.3 9.45l-7.72 7.72c-.78.78-.78 2.05 0 2.83L4 21.41c.39.39.9.59 1.41.59.51 0 1.02-.2 1.41-.59l7.78-7.78 2.81-2.81c.8-.78.8-2.07 0-2.86zM5.41 20L4 18.59l7.72-7.72 1.47 1.35L5.41 20z\"/>\n",
              "  </svg>\n",
              "      </button>\n",
              "      \n",
              "  <style>\n",
              "    .colab-df-container {\n",
              "      display:flex;\n",
              "      flex-wrap:wrap;\n",
              "      gap: 12px;\n",
              "    }\n",
              "\n",
              "    .colab-df-convert {\n",
              "      background-color: #E8F0FE;\n",
              "      border: none;\n",
              "      border-radius: 50%;\n",
              "      cursor: pointer;\n",
              "      display: none;\n",
              "      fill: #1967D2;\n",
              "      height: 32px;\n",
              "      padding: 0 0 0 0;\n",
              "      width: 32px;\n",
              "    }\n",
              "\n",
              "    .colab-df-convert:hover {\n",
              "      background-color: #E2EBFA;\n",
              "      box-shadow: 0px 1px 2px rgba(60, 64, 67, 0.3), 0px 1px 3px 1px rgba(60, 64, 67, 0.15);\n",
              "      fill: #174EA6;\n",
              "    }\n",
              "\n",
              "    [theme=dark] .colab-df-convert {\n",
              "      background-color: #3B4455;\n",
              "      fill: #D2E3FC;\n",
              "    }\n",
              "\n",
              "    [theme=dark] .colab-df-convert:hover {\n",
              "      background-color: #434B5C;\n",
              "      box-shadow: 0px 1px 3px 1px rgba(0, 0, 0, 0.15);\n",
              "      filter: drop-shadow(0px 1px 2px rgba(0, 0, 0, 0.3));\n",
              "      fill: #FFFFFF;\n",
              "    }\n",
              "  </style>\n",
              "\n",
              "      <script>\n",
              "        const buttonEl =\n",
              "          document.querySelector('#df-d42f7ebc-9c39-457b-ac4c-be1dde86309c button.colab-df-convert');\n",
              "        buttonEl.style.display =\n",
              "          google.colab.kernel.accessAllowed ? 'block' : 'none';\n",
              "\n",
              "        async function convertToInteractive(key) {\n",
              "          const element = document.querySelector('#df-d42f7ebc-9c39-457b-ac4c-be1dde86309c');\n",
              "          const dataTable =\n",
              "            await google.colab.kernel.invokeFunction('convertToInteractive',\n",
              "                                                     [key], {});\n",
              "          if (!dataTable) return;\n",
              "\n",
              "          const docLinkHtml = 'Like what you see? Visit the ' +\n",
              "            '<a target=\"_blank\" href=https://colab.research.google.com/notebooks/data_table.ipynb>data table notebook</a>'\n",
              "            + ' to learn more about interactive tables.';\n",
              "          element.innerHTML = '';\n",
              "          dataTable['output_type'] = 'display_data';\n",
              "          await google.colab.output.renderOutput(dataTable, element);\n",
              "          const docLink = document.createElement('div');\n",
              "          docLink.innerHTML = docLinkHtml;\n",
              "          element.appendChild(docLink);\n",
              "        }\n",
              "      </script>\n",
              "    </div>\n",
              "  </div>\n",
              "  "
            ]
          },
          "metadata": {},
          "execution_count": 60
        }
      ]
    },
    {
      "cell_type": "code",
      "source": [
        "df.shape[0]  # no of rows"
      ],
      "metadata": {
        "colab": {
          "base_uri": "https://localhost:8080/"
        },
        "id": "XdATrEwI4R3Z",
        "outputId": "78e58b60-e36b-4a4e-b8c0-3cb2aedb511a"
      },
      "execution_count": null,
      "outputs": [
        {
          "output_type": "execute_result",
          "data": {
            "text/plain": [
              "2000"
            ]
          },
          "metadata": {},
          "execution_count": 62
        }
      ]
    },
    {
      "cell_type": "code",
      "source": [
        "# create a scatter plot to show the subjectivity and polarity \n",
        "plt.figure(figsize=(8,6))\n",
        "for i in range(0,df.shape[0]):\n",
        "  plt.scatter(df['Polarity'][i], df['Subjectivity'][i], color = 'green')\n",
        "plt.title('Sentimental Analysis Plot for Vaccine')\n",
        "plt.xlabel('Polarity')\n",
        "plt.ylabel('Subjectivity (objective -> subjective)')\n",
        "plt.show()"
      ],
      "metadata": {
        "colab": {
          "base_uri": "https://localhost:8080/",
          "height": 441
        },
        "id": "hlPu33-p35e2",
        "outputId": "29032619-a77c-49b5-d877-0fdd1a77dc2a"
      },
      "execution_count": null,
      "outputs": [
        {
          "output_type": "display_data",
          "data": {
            "text/plain": [
              "<Figure size 576x432 with 1 Axes>"
            ],
            "image/png": "[encoded data removed]"
          },
          "metadata": {}
        }
      ]
    },
    {
      "cell_type": "code",
      "source": [
        "# create a bar chart to show the count of positive, negative and neutral sentiments\n",
        "df['Sentiment'].value_counts().plot(kind= 'bar')\n",
        "plt.title('Sentimental Analysis Bar for Vaccine')\n",
        "plt.xlabel('Sentiment')\n",
        "plt.ylabel('Number of Tweets')\n",
        "plt.show()"
      ],
      "metadata": {
        "colab": {
          "base_uri": "https://localhost:8080/",
          "height": 374
        },
        "id": "Iilkgl9D6Rc5",
        "outputId": "c8eb3cec-8de5-4d02-d02c-57f6b7dad5b7"
      },
      "execution_count": null,
      "outputs": [
        {
          "output_type": "display_data",
          "data": {
            "text/plain": [
              "<Figure size 432x288 with 1 Axes>"
            ],
            "image/png": "[encoded data removed]"
          },
          "metadata": {}
        }
      ]
    },
    {
      "cell_type": "code",
      "source": [
        "df['Sentiment'].value_counts()"
      ],
      "metadata": {
        "colab": {
          "base_uri": "https://localhost:8080/"
        },
        "id": "DuwkW1oK7bKj",
        "outputId": "cae98acf-1f2f-455b-c301-f9af3f6cb10e"
      },
      "execution_count": null,
      "outputs": [
        {
          "output_type": "execute_result",
          "data": {
            "text/plain": [
              "Positive    868\n",
              "Neutral     812\n",
              "Negative    320\n",
              "Name: Sentiment, dtype: int64"
            ]
          },
          "metadata": {},
          "execution_count": 69
        }
      ]
    }
  ]
}